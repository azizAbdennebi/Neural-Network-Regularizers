{
 "cells": [
  {
   "cell_type": "markdown",
   "metadata": {},
   "source": [
    "<p style=\"text-align:center\">\n",
    "    <a href=\"https://skills.network/?utm_medium=Exinfluencer&utm_source=Exinfluencer&utm_content=000026UJ&utm_term=10006555&utm_id=NA-SkillsNetwork-Channel-SkillsNetworkGuidedProjectsIBMGPXX0HJYEN39861783-2022-01-01\" target=\"_blank\">\n",
    "    <img src=\"https://cf-courses-data.s3.us.cloud-object-storage.appdomain.cloud/assets/logos/SN_web_lightmode.png\" width=\"200\" alt=\"Skills Network Logo\"  />\n",
    "    </a>\n",
    "</p>\n"
   ]
  },
  {
   "cell_type": "markdown",
   "metadata": {},
   "source": [
    "# **Regularization Methods**\n"
   ]
  },
  {
   "cell_type": "markdown",
   "metadata": {},
   "source": [
    "Estimated time needed: **30** minutes\n"
   ]
  },
  {
   "cell_type": "markdown",
   "metadata": {},
   "source": [
    "In this guided project, you will learn about different regularization techniques that are commonly used by Data Scientists for training deep neural networks. You will practice implementing these methods using Keras APIs and train your neural networks on a simulated dataset and a real-world spam classification dataset.\n",
    "\n",
    "<img src=\"https://cf-courses-data.s3.us.cloud-object-storage.appdomain.cloud/IBM-GPXX0HJYEN/images/mobilemessage.jpg\" width=\"70%\">\n"
   ]
  },
  {
   "cell_type": "markdown",
   "metadata": {},
   "source": [
    "## Table of Contents\n",
    "\n",
    "<ol>\n",
    "    <li><a href=\"https://#Objectives\">Objectives</a></li>\n",
    "    <li>\n",
    "        <a href=\"https://#Setup\">Setup</a>\n",
    "        <ol>\n",
    "            <li><a href=\"#Installing-Required-Libraries\">Installing Required Libraries</a></li>\n",
    "            <li><a href=\"#Importing-Required-Libraries\">Importing Required Libraries</a></li>\n",
    "            <li><a href=\"#Defining-Helper-Functions\">Defining Helper Functions</a></li>\n",
    "        </ol>     \n",
    "    </li>\n",
    "    <li><a href=\"https://#Overfitting\">Overfitting</a></li>\n",
    "    <li><a href=\"https://#L2-Regularization\">L2 Regularization</a></li> \n",
    "    <li><a href=\"https://#L1-Regularization\">L1 Regularization</a></li>\n",
    "    <li><a href=\"https://#Dropout\">Dropout</a></li> \n",
    "    <li><a href=\"https://#Batch-Normalization\">Batch Normalization</a></li>\n",
    "    <li><a href=\"#Example 1: Apply regularization techniques on simulated data\">Example 1: Apply regularization techniques on simulated data</a></li>\n",
    "    <li><a href=\"#Example 2: Spam Classification\">Example 2: Spam Classification</a></li>\n",
    "</ol>\n"
   ]
  },
  {
   "cell_type": "markdown",
   "metadata": {},
   "source": [
    "## Objectives\n",
    "\n",
    "After completing this guided project you will be able to:\n",
    "\n",
    "*   Understand how the regularization techniques (L1, L2, Dropout, BatchNorm) work for neural networks.\n",
    "*   Describe the difference between L1 and L2 regularization.\n",
    "*   Apply the 4 types of regularization when training neural networks.\n"
   ]
  },
  {
   "cell_type": "markdown",
   "metadata": {},
   "source": [
    "***\n"
   ]
  },
  {
   "cell_type": "markdown",
   "metadata": {},
   "source": [
    "## Setup\n"
   ]
  },
  {
   "cell_type": "markdown",
   "metadata": {},
   "source": [
    "For this guided project, we will be using the following libraries:\n",
    "\n",
    "*   [`numpy`](https://numpy.org/?utm_medium=Exinfluencer&utm_source=Exinfluencer&utm_content=000026UJ&utm_term=10006555&utm_id=NA-SkillsNetwork-Channel-SkillsNetworkCoursesIBMML0187ENSkillsNetwork31430127-2021-01-01) for mathematical operations.\n",
    "*   [`Pillow`](https://pillow.readthedocs.io/en/stable/?utm_medium=Exinfluencer&utm_source=Exinfluencer&utm_content=000026UJ&utm_term=10006555&utm_id=NA-SkillsNetwork-Channel-SkillsNetworkCoursesIBMML0187ENSkillsNetwork31430127-2021-01-01) for image processing functions.\n",
    "*   [`OpenCV`](https://docs.opencv.org/4.x/index.html?utm_medium=Exinfluencer&utm_source=Exinfluencer&utm_content=000026UJ&utm_term=10006555&utm_id=NA-SkillsNetwork-Channel-SkillsNetworkCoursesIBMML0187ENSkillsNetwork31430127-2021-01-01) for other image processing functions.\n",
    "*   [`tensorflow`](https://www.tensorflow.org/?utm_medium=Exinfluencer&utm_source=Exinfluencer&utm_content=000026UJ&utm_term=10006555&utm_id=NA-SkillsNetwork-Channel-SkillsNetworkCoursesIBMML0187ENSkillsNetwork31430127-2021-01-01) for machine learning and neural network related functions.\n",
    "*   [`matplotlib`](https://matplotlib.org/?utm_medium=Exinfluencer&utm_source=Exinfluencer&utm_content=000026UJ&utm_term=10006555&utm_id=NA-SkillsNetwork-Channel-SkillsNetworkCoursesIBMML0187ENSkillsNetwork31430127-2021-01-01) for additional plotting tools.\n"
   ]
  },
  {
   "cell_type": "markdown",
   "metadata": {},
   "source": [
    "### Installing Required Libraries\n",
    "\n",
    "The following required libraries are pre-installed in the Skills Network Labs environment. However, if you run this notebook commands in a different Jupyter environment (e.g. Watson Studio or Anaconda), you will need to install these libraries by removing the `#` sign before `!mamba` in the code cell below.\n"
   ]
  },
  {
   "cell_type": "code",
   "execution_count": null,
   "metadata": {},
   "outputs": [],
   "source": [
    "# All Libraries required for this lab are listed below. The libraries pre-installed on Skills Network Labs are commented.\n",
    "# !mamba install -qy numpy==1.22.3 matplotlib==3.5.1 tensorflow==2.9.0 opencv-python==4.5.5.62\n",
    "\n",
    "# Note: If your environment doesn't support \"!mamba install\", use \"!pip install --user\"\n",
    "\n",
    "# RESTART YOUR KERNEL AFTERWARD AS WELL"
   ]
  },
  {
   "cell_type": "markdown",
   "metadata": {},
   "source": [
    "Please restart the kernel after you ungrade the following libraries.\n"
   ]
  },
  {
   "cell_type": "code",
   "execution_count": 2,
   "metadata": {},
   "outputs": [
    {
     "name": "stdout",
     "output_type": "stream",
     "text": [
      "Requirement already satisfied: sklearn in c:\\python310\\lib\\site-packages (0.0.post1)\n",
      "Requirement already satisfied: tensorflow in c:\\python310\\lib\\site-packages (2.10.0)\n",
      "Requirement already satisfied: flatbuffers>=2.0 in c:\\python310\\lib\\site-packages (from tensorflow) (22.10.26)\n",
      "Requirement already satisfied: gast<=0.4.0,>=0.2.1 in c:\\python310\\lib\\site-packages (from tensorflow) (0.4.0)\n",
      "Requirement already satisfied: typing-extensions>=3.6.6 in c:\\python310\\lib\\site-packages (from tensorflow) (4.2.0)\n",
      "Requirement already satisfied: grpcio<2.0,>=1.24.3 in c:\\python310\\lib\\site-packages (from tensorflow) (1.47.0)\n",
      "Requirement already satisfied: tensorboard<2.11,>=2.10 in c:\\python310\\lib\\site-packages (from tensorflow) (2.10.1)\n",
      "Requirement already satisfied: keras-preprocessing>=1.1.1 in c:\\python310\\lib\\site-packages (from tensorflow) (1.1.2)\n",
      "Requirement already satisfied: setuptools in c:\\python310\\lib\\site-packages (from tensorflow) (63.2.0)\n",
      "Requirement already satisfied: keras<2.11,>=2.10.0 in c:\\python310\\lib\\site-packages (from tensorflow) (2.10.0)\n",
      "Requirement already satisfied: absl-py>=1.0.0 in c:\\python310\\lib\\site-packages (from tensorflow) (1.1.0)\n",
      "Requirement already satisfied: h5py>=2.9.0 in c:\\python310\\lib\\site-packages (from tensorflow) (3.7.0)\n",
      "Requirement already satisfied: numpy>=1.20 in c:\\python310\\lib\\site-packages (from tensorflow) (1.23.1)\n",
      "Requirement already satisfied: tensorflow-io-gcs-filesystem>=0.23.1 in c:\\python310\\lib\\site-packages (from tensorflow) (0.26.0)\n",
      "Requirement already satisfied: packaging in c:\\python310\\lib\\site-packages (from tensorflow) (21.3)\n",
      "Requirement already satisfied: tensorflow-estimator<2.11,>=2.10.0 in c:\\python310\\lib\\site-packages (from tensorflow) (2.10.0)\n",
      "Requirement already satisfied: astunparse>=1.6.0 in c:\\python310\\lib\\site-packages (from tensorflow) (1.6.3)\n",
      "Requirement already satisfied: protobuf<3.20,>=3.9.2 in c:\\python310\\lib\\site-packages (from tensorflow) (3.19.4)\n",
      "Requirement already satisfied: libclang>=13.0.0 in c:\\python310\\lib\\site-packages (from tensorflow) (14.0.1)\n",
      "Requirement already satisfied: six>=1.12.0 in c:\\python310\\lib\\site-packages (from tensorflow) (1.12.0)\n",
      "Requirement already satisfied: termcolor>=1.1.0 in c:\\python310\\lib\\site-packages (from tensorflow) (1.1.0)\n",
      "Requirement already satisfied: wrapt>=1.11.0 in c:\\python310\\lib\\site-packages (from tensorflow) (1.14.1)\n",
      "Requirement already satisfied: opt-einsum>=2.3.2 in c:\\python310\\lib\\site-packages (from tensorflow) (3.3.0)\n",
      "Requirement already satisfied: google-pasta>=0.1.1 in c:\\python310\\lib\\site-packages (from tensorflow) (0.2.0)\n",
      "Requirement already satisfied: wheel<1.0,>=0.23.0 in c:\\python310\\lib\\site-packages (from astunparse>=1.6.0->tensorflow) (0.37.1)\n",
      "Requirement already satisfied: requests<3,>=2.21.0 in c:\\python310\\lib\\site-packages (from tensorboard<2.11,>=2.10->tensorflow) (2.21.0)\n",
      "Requirement already satisfied: tensorboard-plugin-wit>=1.6.0 in c:\\python310\\lib\\site-packages (from tensorboard<2.11,>=2.10->tensorflow) (1.8.1)\n",
      "Requirement already satisfied: markdown>=2.6.8 in c:\\python310\\lib\\site-packages (from tensorboard<2.11,>=2.10->tensorflow) (3.3.7)\n",
      "Requirement already satisfied: tensorboard-data-server<0.7.0,>=0.6.0 in c:\\python310\\lib\\site-packages (from tensorboard<2.11,>=2.10->tensorflow) (0.6.1)\n",
      "Requirement already satisfied: werkzeug>=1.0.1 in c:\\python310\\lib\\site-packages (from tensorboard<2.11,>=2.10->tensorflow) (2.1.2)\n",
      "Requirement already satisfied: google-auth-oauthlib<0.5,>=0.4.1 in c:\\python310\\lib\\site-packages (from tensorboard<2.11,>=2.10->tensorflow) (0.4.6)\n",
      "Requirement already satisfied: google-auth<3,>=1.6.3 in c:\\python310\\lib\\site-packages (from tensorboard<2.11,>=2.10->tensorflow) (2.9.1)\n",
      "Requirement already satisfied: pyparsing!=3.0.5,>=2.0.2 in c:\\python310\\lib\\site-packages (from packaging->tensorflow) (3.0.9)\n",
      "Requirement already satisfied: rsa<5,>=3.1.4 in c:\\python310\\lib\\site-packages (from google-auth<3,>=1.6.3->tensorboard<2.11,>=2.10->tensorflow) (4.9)\n",
      "Requirement already satisfied: cachetools<6.0,>=2.0.0 in c:\\python310\\lib\\site-packages (from google-auth<3,>=1.6.3->tensorboard<2.11,>=2.10->tensorflow) (5.2.0)\n",
      "Requirement already satisfied: pyasn1-modules>=0.2.1 in c:\\python310\\lib\\site-packages (from google-auth<3,>=1.6.3->tensorboard<2.11,>=2.10->tensorflow) (0.2.8)\n",
      "Requirement already satisfied: requests-oauthlib>=0.7.0 in c:\\python310\\lib\\site-packages (from google-auth-oauthlib<0.5,>=0.4.1->tensorboard<2.11,>=2.10->tensorflow) (1.3.1)\n",
      "Requirement already satisfied: idna<2.9,>=2.5 in c:\\python310\\lib\\site-packages (from requests<3,>=2.21.0->tensorboard<2.11,>=2.10->tensorflow) (2.8)\n",
      "Requirement already satisfied: chardet<3.1.0,>=3.0.2 in c:\\python310\\lib\\site-packages (from requests<3,>=2.21.0->tensorboard<2.11,>=2.10->tensorflow) (3.0.4)\n",
      "Requirement already satisfied: urllib3<1.25,>=1.21.1 in c:\\python310\\lib\\site-packages (from requests<3,>=2.21.0->tensorboard<2.11,>=2.10->tensorflow) (1.24.3)\n",
      "Requirement already satisfied: certifi>=2017.4.17 in c:\\python310\\lib\\site-packages (from requests<3,>=2.21.0->tensorboard<2.11,>=2.10->tensorflow) (2022.6.15)\n",
      "Requirement already satisfied: pyasn1<0.5.0,>=0.4.6 in c:\\python310\\lib\\site-packages (from pyasn1-modules>=0.2.1->google-auth<3,>=1.6.3->tensorboard<2.11,>=2.10->tensorflow) (0.4.8)\n",
      "Requirement already satisfied: oauthlib>=3.0.0 in c:\\python310\\lib\\site-packages (from requests-oauthlib>=0.7.0->google-auth-oauthlib<0.5,>=0.4.1->tensorboard<2.11,>=2.10->tensorflow) (3.2.0)\n"
     ]
    }
   ],
   "source": [
    "!pip install -U sklearn\n",
    "!pip install -U tensorflow"
   ]
  },
  {
   "cell_type": "markdown",
   "metadata": {},
   "source": [
    "You will need the nltk library for this guided project, make sure to install it.\n"
   ]
  },
  {
   "cell_type": "code",
   "execution_count": 3,
   "metadata": {},
   "outputs": [],
   "source": [
    "%%capture\n",
    "! pip install nltk"
   ]
  },
  {
   "cell_type": "markdown",
   "metadata": {},
   "source": [
    "### Importing Required Libraries\n",
    "\n",
    "*We recommend you import all required libraries in one place (here):*\n"
   ]
  },
  {
   "cell_type": "code",
   "execution_count": 4,
   "metadata": {},
   "outputs": [
    {
     "name": "stderr",
     "output_type": "stream",
     "text": [
      "[nltk_data] Downloading package stopwords to\n",
      "[nltk_data]     C:\\Users\\zizou\\AppData\\Roaming\\nltk_data...\n",
      "[nltk_data]   Unzipping corpora\\stopwords.zip.\n"
     ]
    }
   ],
   "source": [
    "import warnings\n",
    "warnings.filterwarnings('ignore')\n",
    "\n",
    "import numpy as np\n",
    "import pandas as pd\n",
    "import matplotlib.pyplot as plt\n",
    "%matplotlib inline\n",
    "\n",
    "import nltk\n",
    "nltk.download('stopwords')\n",
    "from nltk.corpus import stopwords\n",
    "from sklearn.feature_extraction.text import TfidfVectorizer\n",
    "\n",
    "import tensorflow as tf\n",
    "from tensorflow import keras\n",
    "from tensorflow.keras import layers\n",
    "from tensorflow.keras.models import Sequential, Model\n",
    "from tensorflow.keras.layers import Dense\n",
    "def warn(*args, **kwargs):\n",
    "    pass\n",
    "import warnings\n",
    "warnings.warn = warn\n",
    "warnings.filterwarnings('ignore')\n",
    "warn()"
   ]
  },
  {
   "cell_type": "markdown",
   "metadata": {},
   "source": [
    "### Defining Helper Functions\n"
   ]
  },
  {
   "cell_type": "markdown",
   "metadata": {},
   "source": [
    "This function helps prepare the SMS Spam dataset.\n"
   ]
  },
  {
   "cell_type": "code",
   "execution_count": 5,
   "metadata": {},
   "outputs": [],
   "source": [
    "def prepare_data():\n",
    "    try:\n",
    "        data = pd.read_csv(\"spam.csv\", encoding='latin-1')\n",
    "    except FileNotFoundError:\n",
    "        print(\"Data file not found, make sure it's downloaded.\")\n",
    "        \n",
    "    data.drop(['Unnamed: 2','Unnamed: 3','Unnamed: 4'], axis=1, inplace=True)\n",
    "    data.rename(columns={\"v1\": \"label\", \"v2\": \"text\"}, inplace=True)\n",
    "    data.label = data['label'].map({'ham':0, 'spam':1})\n",
    "    data['Count'] = data['text'].apply(lambda x: len(x))\n",
    "    \n",
    "    sw=stopwords.words(\"english\")\n",
    "    vectorizer = TfidfVectorizer(stop_words=sw, binary=True)\n",
    "\n",
    "    X = vectorizer.fit_transform(data.text).toarray()\n",
    "    y = data.label\n",
    "    \n",
    "    return X, y"
   ]
  },
  {
   "cell_type": "markdown",
   "metadata": {},
   "source": [
    "This function plots the loss and accuracy curve from the training history of a neural network.\n"
   ]
  },
  {
   "cell_type": "code",
   "execution_count": 6,
   "metadata": {},
   "outputs": [],
   "source": [
    "def plot_metrics(history):\n",
    "    fig = plt.figure(figsize=(10,5))\n",
    "    for i, metric in enumerate(['acc', 'loss']):\n",
    "        train_metrics = history.history[metric]\n",
    "        val_metrics = history.history['val_'+metric]\n",
    "        epochs = range(1, len(train_metrics) + 1)\n",
    "        plt.subplot(1,2,i+1)\n",
    "        plt.plot(epochs, train_metrics)\n",
    "        plt.plot(epochs, val_metrics)\n",
    "        plt.title('Training and validation '+ metric)\n",
    "        plt.xlabel(\"Epochs\")\n",
    "        plt.ylabel(metric)\n",
    "        plt.legend([\"train_\"+metric, 'val_'+metric])\n"
   ]
  },
  {
   "cell_type": "markdown",
   "metadata": {},
   "source": [
    "## Overfitting\n"
   ]
  },
  {
   "cell_type": "markdown",
   "metadata": {},
   "source": [
    " In the following figure, we see a two-class classification problem. The red points represent one class, and Blue Points represent the second class. The actual decision boundary is shown in black. Most points are in the correct region, but several samples are in the incorrect region; this could be for many reasons, such as noise or outliers. The key point is that you do not expect data points of these classes in these regions.\n",
    "\n",
    "The second model in green is meant to approximate the decision boundary; this model classifies the data points, even the data points in the incorrect regions. This model does not generalize well. This is because most data points will not be in those regions. As a result, the data will do poorly on data not from the original dataset, like data in the real world. This if called **overfitting**.\n",
    "\n",
    "<center><img src=\"https://cf-courses-data.s3.us.cloud-object-storage.appdomain.cloud/IBMDeveloperSkillsNetwork-ML311-Coursera/labs/Module1/L3/images/Overfitting.png\" width=\"40%\"></center>\n",
    "\n",
    "<p style=\"text-align:center\">\n",
    "    <a href=\"https://en.wikipedia.org/wiki/Overfitting?utm_medium=Exinfluencer&utm_source=Exinfluencer&utm_content=000026UJ&utm_term=10006555&utm_id=NA-SkillsNetwork-Channel-SkillsNetworkGuidedProjectsIBMGPXX0HJYEN39861783-2022-01-01\">Source: Wikipedia</a>\n",
    "</p>\n",
    "\n",
    "To combat overfitting or high variance, we introduce 5 regularization techniques in this guided project for you to choose from the next time you train your neural network. They are:\n",
    "\n",
    "- L2 (Ridge) regularization\n",
    "- L1 (Lasso) regularization\n",
    "- Dropout\n",
    "- Batch Normalization \n",
    "- Data shuffling\n"
   ]
  },
  {
   "cell_type": "markdown",
   "metadata": {},
   "source": [
    "## L2 Regularization\n"
   ]
  },
  {
   "cell_type": "markdown",
   "metadata": {},
   "source": [
    "L2 regularization is perhaps the most common form of regularization analogous to  the penalty term in  **Ridge regression**. It penalizes the squared magnitude of the weights $\\boldsymbol w$ by adding the term $\\frac12 \\lambda w^2$ to the objective function that the algorithm is trying to optimize. $\\lambda$ is the regularization strength, also called the **shrinkage parameter** which can be tuned during training. \n",
    "\n",
    "The regularization term is defined as the Euclidean norm of the weight matrices, which sums over all the squared weights. It is multiplied by $\\frac12$ so that when the gradient is calculated we get $\\lambda w$.\n",
    "\n",
    "As the shrinkage parameter approaches infinity, the weights are driven down to near zero but **will not be exactly zero**. \n"
   ]
  },
  {
   "cell_type": "markdown",
   "metadata": {},
   "source": [
    "### Using L2 Regularization in Keras\n",
    "\n",
    "In Keras, regularization penalties are applied on a per-layer basis, that is, you specify the name of the regularizer API as you add a layer to the network. The `tf.keras.regularizers` module has a built-in L2 class that you can call using the following:\n"
   ]
  },
  {
   "cell_type": "code",
   "execution_count": 7,
   "metadata": {},
   "outputs": [
    {
     "data": {
      "text/plain": [
       "<keras.regularizers.L2 at 0x28d2f86bf70>"
      ]
     },
     "execution_count": 7,
     "metadata": {},
     "output_type": "execute_result"
    }
   ],
   "source": [
    "tf.keras.regularizers.l2(l=0.01) "
   ]
  },
  {
   "cell_type": "markdown",
   "metadata": {},
   "source": [
    "This object can be passed as an argument to a Dense layer:\n"
   ]
  },
  {
   "cell_type": "code",
   "execution_count": 8,
   "metadata": {},
   "outputs": [],
   "source": [
    "dense_layer = Dense(32, \n",
    "                activation=\"relu\", \n",
    "                kernel_regularizer=tf.keras.regularizers.l2(l=0.01))"
   ]
  },
  {
   "cell_type": "markdown",
   "metadata": {},
   "source": [
    "## L1 Regularization\n",
    "\n",
    "L1 regularization is another common form of regularization. It penalizes large weights $\\boldsymbol w$ by adding the term $\\lambda |w|$ to the objective function, where $\\lambda$ is the regularization strength. \n",
    "\n",
    "What's differs L1 from L2 is that, when $\\lambda$ approaches infinity, L1 regularization can shrink the weights of the less important features to zero, which would be very useful if you also want automatic feature selection during training. \n",
    "\n",
    "<p style='color: blue'>The following figure illustrates how L1 and L2 work differently:</p>\n",
    "\n",
    "<center><img src=\"https://cf-courses-data.s3.us.cloud-object-storage.appdomain.cloud/IBMDeveloperSkillsNetwork-ML311-Coursera/labs/Module1/L3/images/L12_1.png\" width=\"65%\"></center>\n",
    "\n",
    "<p style=\"text-align:center; color:gray\">Source: An Introduction to Statistical Learning</p>\n"
   ]
  },
  {
   "cell_type": "markdown",
   "metadata": {},
   "source": [
    "In the figure above, the red ellipses represent the contours of the loss function that needs to be optimized during training, and the green areas on the left and right represent the **feasible regions** of the L1 and L2 constaints respectively. \n",
    "\n",
    "In the case of L1 (left), the ellipse would be able to intersect with the feasible region on an axis, which is when the weights become zero. However, for L2 (right), due to the round shape of the feasible region, i.e., the L2 norm, the ellipse wouldn't intersect with the green circle on an axis, which is why the weights regularized by L2 can be close to zero but not equal to zero.\n",
    "\n",
    "We can also combine the L1 regularization and the L2 regularization to obtain the **Elastic Net regularization**: $\\frac12 \\lambda_1 w^2 + \\lambda_2 |w|$. $\\lambda_1$ and $\\lambda_2$ can be tuned as hyperparameters during training.\n"
   ]
  },
  {
   "cell_type": "markdown",
   "metadata": {},
   "source": [
    "### Using L1 Regularization in Keras\n",
    "\n",
    "Similar to how we used L2, `tf.keras.regularizers` module also has a built-in L1 class:\n"
   ]
  },
  {
   "cell_type": "code",
   "execution_count": 9,
   "metadata": {},
   "outputs": [],
   "source": [
    "dense_layer = Dense(32, \n",
    "            activation=\"relu\", \n",
    "            kernel_regularizer=tf.keras.regularizers.l1(l=0.01))"
   ]
  },
  {
   "cell_type": "markdown",
   "metadata": {},
   "source": [
    "If you don't need to specify a value for the regularization strength, you can also pass a string value to the `kernel_regularizer` argument:\n"
   ]
  },
  {
   "cell_type": "code",
   "execution_count": 10,
   "metadata": {},
   "outputs": [],
   "source": [
    "dense_layer = Dense(32, \n",
    "                activation=\"relu\", \n",
    "                kernel_regularizer=\"l1\")"
   ]
  },
  {
   "cell_type": "markdown",
   "metadata": {},
   "source": [
    "## Dropout\n",
    "\n",
    "During training, Dropout will keep a neuron active with some probability $\\boldsymbol p$ (a hyperparameter), or set it to zero otherwise. This  regularization technique approximates training a large number of different neural nerworks in parallel.\n",
    "\n",
    "<center><img src=\"https://cf-courses-data.s3.us.cloud-object-storage.appdomain.cloud/IBMDeveloperSkillsNetwork-ML311-Coursera/labs/Module1/L3/images/DO_1.png\" width=\"60%\"></center>\n",
    "\n",
    "Picture from the [Dropout paper](http://www.cs.toronto.edu/~rsalakhu/papers/srivastava14a.pdf?utm_medium=Exinfluencer&utm_source=Exinfluencer&utm_content=000026UJ&utm_term=10006555&utm_id=NA-SkillsNetwork-Channel-SkillsNetworkGuidedProjectsIBMGPXX0HJYEN39861783-2022-01-01)\n",
    "\n",
    "Dropout can be interpreted as sampling a neural network within the full neural network, and only updating the weights of the sampled network. By doing so, each iteration is using a different model architecture and has a different \"view\" of the configured layers. This adds noise to the training process, and perhaps breaks up situations where network layers co-adapt to correct mistakes from prior, in turn making the network more robust.\n",
    "\n",
    "Note that **dropout is not used during prediction**.\n"
   ]
  },
  {
   "cell_type": "markdown",
   "metadata": {},
   "source": [
    "### Using Dropout in Keras\n",
    "\n",
    "In Keras, Dropout can be applied using the Dropout class from **keras.layers**. A dropout rate can be specified when creating the dropout layer, which is the percentage of neurons that will be turned off during one update.\n"
   ]
  },
  {
   "cell_type": "code",
   "execution_count": 11,
   "metadata": {},
   "outputs": [],
   "source": [
    "from tensorflow.keras.layers import Dropout\n",
    "\n",
    "dropout_layer = Dropout(rate=0.2)"
   ]
  },
  {
   "cell_type": "markdown",
   "metadata": {},
   "source": [
    "## Batch Normalization\n",
    "\n",
    "Training deep neural networks is complicated, because the distribution of each layer's inputs changes as the weights of the previous layers get updated during back propagation. This can result in the learning algorithm always pursuing a moving target. In the [original paper](https://arxiv.org/abs/1502.03167?utm_medium=Exinfluencer&utm_source=Exinfluencer&utm_content=000026UJ&utm_term=10006555&utm_id=NA-SkillsNetwork-Channel-SkillsNetworkGuidedProjectsIBMGPXX0HJYEN39861783-2022-01-01) of Batch Normalization, the change in the distribution of inputs to lsayers in the network is referred to as **\"internal covariate shift\"**. This slows down the training by requiring lower learning rates and careful parameter initialization, making it hard for the model to generalize well. Sometimes, if the training samples  are statistically too different from the testing samples, it is considered a covariate shift.\n"
   ]
  },
  {
   "cell_type": "markdown",
   "metadata": {},
   "source": [
    "### What is Batch Normalization?\n",
    "\n",
    "Batch normalization is a technique for training very deep neural networks that normalizes the inputs to a layer for every mini-batch. This has the effect of stabilizing the learning process and dramatically reducing the number of training epochs required to train deep networks.\n",
    "\n",
    "**Batch**, or **mini-batch**, is a collection of samples that will be passed through the network at one time for the weights update. **Normalization** is the process of transforming the data to have a mean 0 and standard deviation 1 (thus follows the standard normal distribution). \n",
    "\n",
    "In a neural network, batch normalization is achieved through a normalization layer in between the fully connected Dense layers, which fixes the means and variances of each layer's inputs. This way, there is not much change in the distrbution of each layer input, and the layers in the network can learn from back-propagation simultaneously with out having to wait for the previous layers to learn. This accelerates the training process.\n",
    "\n",
    "<center><img src=\"https://cf-courses-data.s3.us.cloud-object-storage.appdomain.cloud/IBMDeveloperSkillsNetwork-ML311-Coursera/labs/Module1/L3/images/BN_6.png\" width=\"70%\"></center>\n",
    "\n",
    "Image credits to [Ilango Rajagopal](https://medium.com/@ilango100/batch-normalization-speed-up-neural-network-training-245e39a62f85)\n"
   ]
  },
  {
   "cell_type": "markdown",
   "metadata": {},
   "source": [
    "### How does Batch Normalization work?\n",
    "\n",
    "Denote by $\\boldsymbol B$ a mini-batch of size $\\boldsymbol m$ of the training set, for a layer with **_d_**-dimensional input $x = (x^{(1)},...,x^{(d)})$, each dimension of its input is then normalized as:\n",
    "$$\n",
    "\\hat{x}_{i}^{k} = \\frac {x_i ^{k}-\\mu_B^{k}} {\\sqrt{{\\sigma_B^{k}}^2 +\\epsilon}}\n",
    "$$\n",
    "\n",
    "where $k \\in [1,d]$and $i \\in [1,m]$; $\\mu_B^{k}$ and ${\\sigma_B^{k}}^2$are the **per dimension mean and variance** of $\\boldsymbol B$ such that:\n"
   ]
  },
  {
   "cell_type": "markdown",
   "metadata": {},
   "source": [
    "$$\n",
    "\\mu_B^{k} = \\frac{1}{m} \\sum_{i=1}^m x_i^{k}, {\\sigma_B^{k}}^2 = \\frac{1}{m} \\sum_{i=1}^m (x_i^{k}-\\mu_B^{k})^2\n",
    "$$\n"
   ]
  },
  {
   "cell_type": "markdown",
   "metadata": {},
   "source": [
    "$\\epsilon$ is added in the denominator for numerical stability and is an arbitrarily small constant. The resulting normalized activation $\\hat{x}^{k}$ have zero mean and unit variance, if $\\epsilon$ is not taken into account. To restore the representation power of the network, a transformation step then follows as\n",
    "\n",
    "$$\n",
    "y_i^{k} = \\gamma^{k} \\hat{x}_{i}^{k} +\\beta^{k}\n",
    "$$\n",
    "\n",
    "where the parameters $\\gamma^{k}$ and $\\beta^{k}$ are subsequently learned in the optimization process. You can refer to [wikipedia](https://en.wikipedia.org/wiki/Batch_normalization?utm_medium=Exinfluencer&utm_source=Exinfluencer&utm_content=000026UJ&utm_term=10006555&utm_id=NA-SkillsNetwork-Channel-SkillsNetworkGuidedProjectsIBMGPXX0HJYEN39861783-2022-01-01) for more mathematical details of batch normalization.\n"
   ]
  },
  {
   "cell_type": "markdown",
   "metadata": {},
   "source": [
    "<p style='color: blue'>What are the benefits of Batch Normalization?</p>\n",
    "\n",
    "1. It tackles the internal covariate shift issue by always normalizing the input signals, thus accelerating the training of deep neural nets and increasing the generalization power of the networks.\n",
    "2. It makes the optimization landscape smoother, reduing the magnitude of variations in the gradient and the loss, making the training faster and easier.\n",
    "3. It acts as a regularizer by introducing random noises, as each minibatch at each layer is normalized using its own mean and standard deviation during training.\n"
   ]
  },
  {
   "cell_type": "markdown",
   "metadata": {},
   "source": [
    "### Using Batch Normalization in Keras\n",
    "\n",
    "In Keras, you can add a Batch Norm layer in between the Dense layers by calling `BatchNormalization()` from **keras.layers**. Here is a code example:\n"
   ]
  },
  {
   "cell_type": "code",
   "execution_count": 12,
   "metadata": {},
   "outputs": [],
   "source": [
    "from tensorflow.keras.layers import Dense, BatchNormalization\n",
    "\n",
    "batchnorm_layer = BatchNormalization()"
   ]
  },
  {
   "cell_type": "markdown",
   "metadata": {},
   "source": [
    "## Example 1: Apply regularization techniques on simulated data\n",
    "\n",
    "In this example, we will use the **generate_data** function to simulate a degree-3 polynomial dataset with some random noise. We will intentionally overfit the data by creating a polynomial features of the data, and then we will observe whether the four regularization techniques can mitigate overfitting in this case.\n"
   ]
  },
  {
   "cell_type": "markdown",
   "metadata": {},
   "source": [
    "Let's first visualize the polynomial data:\n"
   ]
  },
  {
   "cell_type": "code",
   "execution_count": 13,
   "metadata": {},
   "outputs": [
    {
     "data": {
      "image/png": "[encoded data removed]",
      "text/plain": [
       "<Figure size 432x288 with 1 Axes>"
      ]
     },
     "metadata": {
      "needs_background": "light"
     },
     "output_type": "display_data"
    }
   ],
   "source": [
    "def generate_data(seed=43,std=0.1,samples=500):\n",
    "    np.random.seed(seed)\n",
    "    X =np.linspace(-1,1,samples)\n",
    "    f = X**3 +2*X**2 -X \n",
    "    y=f+np.random.randn(samples)*std\n",
    "    \n",
    "    return X, y\n",
    "\n",
    "\n",
    "X,y = generate_data()\n",
    "f = X**3 +2*X**2 -X\n",
    "plt.plot(X, y,'rx',label=\"data samples\")\n",
    "plt.plot(X, f,label=\"true function\")\n",
    "plt.title(\"data and true function\")\n",
    "plt.legend()\n",
    "plt.show()"
   ]
  },
  {
   "cell_type": "markdown",
   "metadata": {},
   "source": [
    "Let's also add some outliers to y:\n"
   ]
  },
  {
   "cell_type": "code",
   "execution_count": 14,
   "metadata": {},
   "outputs": [
    {
     "data": {
      "image/png": "[encoded data removed]",
      "text/plain": [
       "<Figure size 432x288 with 1 Axes>"
      ]
     },
     "metadata": {
      "needs_background": "light"
     },
     "output_type": "display_data"
    }
   ],
   "source": [
    "y[20:30] = 0\n",
    "y[100:110] = 2\n",
    "y[180:190] = 4\n",
    "y[260:270] = -2\n",
    "y[340:350] = -3\n",
    "y[420:430] = 4\n",
    "\n",
    "plt.plot(X, y,'rx',label=\"data samples\")\n",
    "plt.plot(X, f,label=\"true function\")\n",
    "plt.legend()\n",
    "plt.show()"
   ]
  },
  {
   "cell_type": "markdown",
   "metadata": {},
   "source": [
    "Let's use an overly complex neural network to fit our simulated data.\n"
   ]
  },
  {
   "cell_type": "code",
   "execution_count": 15,
   "metadata": {},
   "outputs": [
    {
     "name": "stdout",
     "output_type": "stream",
     "text": [
      "Epoch 1/20\n",
      "5/5 [==============================] - 0s 3ms/step - loss: 1.6342\n",
      "Epoch 2/20\n",
      "5/5 [==============================] - 0s 3ms/step - loss: 1.2632\n",
      "Epoch 3/20\n",
      "5/5 [==============================] - 0s 3ms/step - loss: 1.0018\n",
      "Epoch 4/20\n",
      "5/5 [==============================] - 0s 3ms/step - loss: 0.9679\n",
      "Epoch 5/20\n",
      "5/5 [==============================] - 0s 3ms/step - loss: 0.9210\n",
      "Epoch 6/20\n",
      "5/5 [==============================] - 0s 3ms/step - loss: 0.8755\n",
      "Epoch 7/20\n",
      "5/5 [==============================] - 0s 3ms/step - loss: 0.8496\n",
      "Epoch 8/20\n",
      "5/5 [==============================] - 0s 3ms/step - loss: 0.7994\n",
      "Epoch 9/20\n",
      "5/5 [==============================] - 0s 3ms/step - loss: 0.7872\n",
      "Epoch 10/20\n",
      "5/5 [==============================] - 0s 2ms/step - loss: 0.7694\n",
      "Epoch 11/20\n",
      "5/5 [==============================] - 0s 3ms/step - loss: 0.7396\n",
      "Epoch 12/20\n",
      "5/5 [==============================] - 0s 3ms/step - loss: 0.7459\n",
      "Epoch 13/20\n",
      "5/5 [==============================] - 0s 3ms/step - loss: 0.7242\n",
      "Epoch 14/20\n",
      "5/5 [==============================] - 0s 3ms/step - loss: 0.7209\n",
      "Epoch 15/20\n",
      "5/5 [==============================] - 0s 3ms/step - loss: 0.7183\n",
      "Epoch 16/20\n",
      "5/5 [==============================] - 0s 3ms/step - loss: 0.7091\n",
      "Epoch 17/20\n",
      "5/5 [==============================] - 0s 3ms/step - loss: 0.7069\n",
      "Epoch 18/20\n",
      "5/5 [==============================] - 0s 2ms/step - loss: 0.7051\n",
      "Epoch 19/20\n",
      "5/5 [==============================] - 0s 3ms/step - loss: 0.6992\n",
      "Epoch 20/20\n",
      "5/5 [==============================] - 0s 2ms/step - loss: 0.7002\n"
     ]
    },
    {
     "data": {
      "text/plain": [
       "<keras.callbacks.History at 0x28d31d49120>"
      ]
     },
     "execution_count": 15,
     "metadata": {},
     "output_type": "execute_result"
    }
   ],
   "source": [
    "from tensorflow.keras.layers import Dense\n",
    "from tensorflow.keras.optimizers import Adam\n",
    "\n",
    "model = Sequential()\n",
    "model.add(Dense(1000, activation='relu',input_shape=(1,)))\n",
    "model.add(Dense(120,activation='relu'))\n",
    "model.add(Dense(120,activation='relu'))\n",
    "model.add(Dense(1))\n",
    "\n",
    "model.compile(optimizer=Adam(lr=1e-3), loss=\"mean_squared_error\")\n",
    "model.fit(X, y,  epochs=20, batch_size=100)"
   ]
  },
  {
   "cell_type": "markdown",
   "metadata": {},
   "source": [
    "When we plot out the original data and the predictions, we can see that because the model's weights are not regularized, it tends to over fit  on new data: \n"
   ]
  },
  {
   "cell_type": "code",
   "execution_count": 16,
   "metadata": {},
   "outputs": [
    {
     "name": "stdout",
     "output_type": "stream",
     "text": [
      "16/16 [==============================] - 0s 1ms/step\n"
     ]
    },
    {
     "data": {
      "image/png": "[encoded data removed]",
      "text/plain": [
       "<Figure size 432x288 with 1 Axes>"
      ]
     },
     "metadata": {
      "needs_background": "light"
     },
     "output_type": "display_data"
    }
   ],
   "source": [
    "y_pred = model.predict(X)\n",
    "plt.plot(X, y,'rx',label=\"data samples\")\n",
    "plt.plot(X, f,label=\"true function\")\n",
    "plt.plot(X, y_pred ,label=\"predicted function\")\n",
    "plt.legend()\n",
    "plt.show()"
   ]
  },
  {
   "cell_type": "markdown",
   "metadata": {},
   "source": [
    "We can also calculate the mean square error:\n"
   ]
  },
  {
   "cell_type": "code",
   "execution_count": 17,
   "metadata": {},
   "outputs": [
    {
     "name": "stdout",
     "output_type": "stream",
     "text": [
      "Mean squared error is 1.933902766276952\n",
      "\n"
     ]
    }
   ],
   "source": [
    "no_reg = np.mean((y-y_pred)**2)\n",
    "print(f\"Mean squared error is {no_reg}\\n\")"
   ]
  },
  {
   "cell_type": "markdown",
   "metadata": {},
   "source": [
    "Now let's apply the four regularization technique: **L1, L2, Drop out, and Batch Normalization** and see which works best for our data!\n"
   ]
  },
  {
   "cell_type": "markdown",
   "metadata": {},
   "source": [
    "### L1 (Lasso)\n"
   ]
  },
  {
   "cell_type": "code",
   "execution_count": 18,
   "metadata": {},
   "outputs": [
    {
     "name": "stdout",
     "output_type": "stream",
     "text": [
      "Epoch 1/20\n",
      "5/5 [==============================] - 0s 2ms/step - loss: 6.1359\n",
      "Epoch 2/20\n",
      "5/5 [==============================] - 0s 3ms/step - loss: 5.2713\n",
      "Epoch 3/20\n",
      "5/5 [==============================] - 0s 4ms/step - loss: 4.6690\n",
      "Epoch 4/20\n",
      "5/5 [==============================] - 0s 3ms/step - loss: 4.2230\n",
      "Epoch 5/20\n",
      "5/5 [==============================] - 0s 3ms/step - loss: 3.7461\n",
      "Epoch 6/20\n",
      "5/5 [==============================] - 0s 4ms/step - loss: 3.3612\n",
      "Epoch 7/20\n",
      "5/5 [==============================] - 0s 3ms/step - loss: 2.9894\n",
      "Epoch 8/20\n",
      "5/5 [==============================] - 0s 3ms/step - loss: 2.6474\n",
      "Epoch 9/20\n",
      "5/5 [==============================] - 0s 3ms/step - loss: 2.3552\n",
      "Epoch 10/20\n",
      "5/5 [==============================] - 0s 3ms/step - loss: 2.0864\n",
      "Epoch 11/20\n",
      "5/5 [==============================] - 0s 3ms/step - loss: 1.8589\n",
      "Epoch 12/20\n",
      "5/5 [==============================] - 0s 3ms/step - loss: 1.6694\n",
      "Epoch 13/20\n",
      "5/5 [==============================] - 0s 3ms/step - loss: 1.5122\n",
      "Epoch 14/20\n",
      "5/5 [==============================] - 0s 3ms/step - loss: 1.4027\n",
      "Epoch 15/20\n",
      "5/5 [==============================] - 0s 3ms/step - loss: 1.3235\n",
      "Epoch 16/20\n",
      "5/5 [==============================] - 0s 3ms/step - loss: 1.2678\n",
      "Epoch 17/20\n",
      "5/5 [==============================] - 0s 3ms/step - loss: 1.2158\n",
      "Epoch 18/20\n",
      "5/5 [==============================] - 0s 2ms/step - loss: 1.1704\n",
      "Epoch 19/20\n",
      "5/5 [==============================] - 0s 4ms/step - loss: 1.1358\n",
      "Epoch 20/20\n",
      "5/5 [==============================] - 0s 3ms/step - loss: 1.1038\n"
     ]
    },
    {
     "data": {
      "text/plain": [
       "<keras.callbacks.History at 0x28d2f8902b0>"
      ]
     },
     "execution_count": 18,
     "metadata": {},
     "output_type": "execute_result"
    }
   ],
   "source": [
    "model_l1 = Sequential()\n",
    "\n",
    "model_l1.add(Dense(1000, activation='relu',input_shape=(1,),kernel_regularizer=keras.regularizers.l1(l=0.01)))\n",
    "model_l1.add(Dense(120,activation='relu',kernel_regularizer=keras.regularizers.l1(l=0.001)))\n",
    "model_l1.add(Dense(120,activation='relu'))\n",
    "model_l1.add(Dense(1))\n",
    "model_l1.compile(optimizer=Adam(lr=1e-3), loss=\"mean_squared_error\")\n",
    "model_l1.fit(X, y,  epochs=20, batch_size=100)"
   ]
  },
  {
   "cell_type": "markdown",
   "metadata": {},
   "source": [
    "we can plot the model, we see the model tracks the data: \n"
   ]
  },
  {
   "cell_type": "code",
   "execution_count": 19,
   "metadata": {},
   "outputs": [
    {
     "name": "stdout",
     "output_type": "stream",
     "text": [
      "16/16 [==============================] - 0s 667us/step\n"
     ]
    },
    {
     "data": {
      "image/png": "[encoded data removed]",
      "text/plain": [
       "<Figure size 432x288 with 1 Axes>"
      ]
     },
     "metadata": {
      "needs_background": "light"
     },
     "output_type": "display_data"
    }
   ],
   "source": [
    "y_pred = model_l1.predict(X)\n",
    "plt.plot(X, y,'rx',label=\"data samples\")\n",
    "plt.plot(X, f,label=\"true function\")\n",
    "plt.plot(X, y_pred,label=\"predicted function\")\n",
    "plt.legend()\n",
    "plt.show()"
   ]
  },
  {
   "cell_type": "markdown",
   "metadata": {},
   "source": [
    "we can also calculate the mean square error; we see L1 regulation decreases the error:\n"
   ]
  },
  {
   "cell_type": "code",
   "execution_count": 20,
   "metadata": {},
   "outputs": [
    {
     "name": "stdout",
     "output_type": "stream",
     "text": [
      "Mean squared error is 1.6650185313818513\n",
      "\n"
     ]
    }
   ],
   "source": [
    "l1 = np.mean((y-y_pred)**2)\n",
    "print(f\"Mean squared error is {l1}\\n\")"
   ]
  },
  {
   "cell_type": "markdown",
   "metadata": {},
   "source": [
    "### L2 (Ridge)\n"
   ]
  },
  {
   "cell_type": "code",
   "execution_count": 23,
   "metadata": {},
   "outputs": [
    {
     "name": "stdout",
     "output_type": "stream",
     "text": [
      "Epoch 1/20\n",
      "10/10 [==============================] - 0s 15ms/step - loss: 1.2879 - val_loss: 4.3503\n",
      "Epoch 2/20\n",
      "10/10 [==============================] - 0s 4ms/step - loss: 0.7855 - val_loss: 4.9730\n",
      "Epoch 3/20\n",
      "10/10 [==============================] - 0s 5ms/step - loss: 0.7448 - val_loss: 4.2306\n",
      "Epoch 4/20\n",
      "10/10 [==============================] - 0s 4ms/step - loss: 0.6992 - val_loss: 4.1172\n",
      "Epoch 5/20\n",
      "10/10 [==============================] - 0s 4ms/step - loss: 0.7018 - val_loss: 4.3702\n",
      "Epoch 6/20\n",
      "10/10 [==============================] - 0s 4ms/step - loss: 0.6886 - val_loss: 3.8556\n",
      "Epoch 7/20\n",
      "10/10 [==============================] - 0s 3ms/step - loss: 0.6822 - val_loss: 3.9436\n",
      "Epoch 8/20\n",
      "10/10 [==============================] - 0s 4ms/step - loss: 0.6707 - val_loss: 3.7113\n",
      "Epoch 9/20\n",
      "10/10 [==============================] - 0s 4ms/step - loss: 0.6633 - val_loss: 3.5787\n",
      "Epoch 10/20\n",
      "10/10 [==============================] - 0s 4ms/step - loss: 0.6603 - val_loss: 3.2893\n",
      "Epoch 11/20\n",
      "10/10 [==============================] - 0s 5ms/step - loss: 0.6618 - val_loss: 3.2383\n",
      "Epoch 12/20\n",
      "10/10 [==============================] - 0s 4ms/step - loss: 0.6593 - val_loss: 2.9546\n",
      "Epoch 13/20\n",
      "10/10 [==============================] - 0s 4ms/step - loss: 0.6580 - val_loss: 3.0115\n",
      "Epoch 14/20\n",
      "10/10 [==============================] - 0s 3ms/step - loss: 0.6507 - val_loss: 2.7793\n",
      "Epoch 15/20\n",
      "10/10 [==============================] - 0s 4ms/step - loss: 0.6631 - val_loss: 2.9087\n",
      "Epoch 16/20\n",
      "10/10 [==============================] - 0s 4ms/step - loss: 0.6566 - val_loss: 2.7496\n",
      "Epoch 17/20\n",
      "10/10 [==============================] - 0s 4ms/step - loss: 0.6501 - val_loss: 2.8062\n",
      "Epoch 18/20\n",
      "10/10 [==============================] - 0s 4ms/step - loss: 0.6716 - val_loss: 2.6350\n",
      "Epoch 19/20\n",
      "10/10 [==============================] - 0s 4ms/step - loss: 0.6520 - val_loss: 2.7290\n",
      "Epoch 20/20\n",
      "10/10 [==============================] - 0s 4ms/step - loss: 0.6552 - val_loss: 2.7226\n"
     ]
    },
    {
     "data": {
      "text/plain": [
       "<keras.callbacks.History at 0x28d3c309540>"
      ]
     },
     "execution_count": 23,
     "metadata": {},
     "output_type": "execute_result"
    }
   ],
   "source": [
    "model_l2 = Sequential()\n",
    "\n",
    "model_l2.add(Dense(1000, activation='relu',input_shape=(1,),kernel_regularizer=keras.regularizers.l2(l=0.0001)))\n",
    "model_l2.add(Dense(120,activation='relu',kernel_regularizer=keras.regularizers.l2(l=0.0001)))\n",
    "model_l2.add(Dense(120,activation='relu',kernel_regularizer=keras.regularizers.l2(l=0.0001)))\n",
    "model_l2.add(Dense(1))\n",
    "model_l2.compile(optimizer=Adam(lr=1e-3), loss=\"mean_squared_error\")\n",
    "model_l2.fit(X, y, validation_split=0.2, epochs=20, batch_size=40)"
   ]
  },
  {
   "cell_type": "markdown",
   "metadata": {},
   "source": [
    "we can plot the model,we can also calculate the mean square error; we see L2 regulation can also improve the result by a little bit:\n"
   ]
  },
  {
   "cell_type": "code",
   "execution_count": 24,
   "metadata": {},
   "outputs": [
    {
     "name": "stdout",
     "output_type": "stream",
     "text": [
      "16/16 [==============================] - 0s 733us/step\n"
     ]
    },
    {
     "data": {
      "text/plain": [
       "<matplotlib.legend.Legend at 0x28d3d3d7820>"
      ]
     },
     "execution_count": 24,
     "metadata": {},
     "output_type": "execute_result"
    },
    {
     "data": {
      "image/png": "[encoded data removed]",
      "text/plain": [
       "<Figure size 432x288 with 1 Axes>"
      ]
     },
     "metadata": {
      "needs_background": "light"
     },
     "output_type": "display_data"
    }
   ],
   "source": [
    "y_pred = model_l2.predict(X)\n",
    "plt.plot(X, y,'rx',label=\"data samples\")\n",
    "plt.plot(X, f,label=\"true function\")\n",
    "plt.plot(X, y_pred ,label=\"predicted function\")\n",
    "plt.legend()"
   ]
  },
  {
   "cell_type": "code",
   "execution_count": 25,
   "metadata": {},
   "outputs": [
    {
     "name": "stdout",
     "output_type": "stream",
     "text": [
      "Mean squared error is 1.8735665861190387\n",
      "\n"
     ]
    }
   ],
   "source": [
    "l2 = np.mean((y-y_pred)**2)\n",
    "print(f\"Mean squared error is {l2}\\n\")"
   ]
  },
  {
   "cell_type": "markdown",
   "metadata": {},
   "source": [
    "### Dropout\n"
   ]
  },
  {
   "cell_type": "code",
   "execution_count": 26,
   "metadata": {},
   "outputs": [
    {
     "name": "stdout",
     "output_type": "stream",
     "text": [
      "Epoch 1/20\n",
      "10/10 [==============================] - 0s 13ms/step - loss: 1.0132 - val_loss: 3.8430\n",
      "Epoch 2/20\n",
      "10/10 [==============================] - 0s 5ms/step - loss: 0.7938 - val_loss: 5.1088\n",
      "Epoch 3/20\n",
      "10/10 [==============================] - 0s 5ms/step - loss: 0.7250 - val_loss: 4.1899\n",
      "Epoch 4/20\n",
      "10/10 [==============================] - 0s 5ms/step - loss: 0.7021 - val_loss: 4.3841\n",
      "Epoch 5/20\n",
      "10/10 [==============================] - 0s 4ms/step - loss: 0.6875 - val_loss: 4.3935\n",
      "Epoch 6/20\n",
      "10/10 [==============================] - 0s 4ms/step - loss: 0.6880 - val_loss: 4.0543\n",
      "Epoch 7/20\n",
      "10/10 [==============================] - 0s 4ms/step - loss: 0.6690 - val_loss: 4.0224\n",
      "Epoch 8/20\n",
      "10/10 [==============================] - 0s 4ms/step - loss: 0.6880 - val_loss: 3.6391\n",
      "Epoch 9/20\n",
      "10/10 [==============================] - 0s 5ms/step - loss: 0.6604 - val_loss: 3.6815\n",
      "Epoch 10/20\n",
      "10/10 [==============================] - 0s 4ms/step - loss: 0.6743 - val_loss: 3.5134\n",
      "Epoch 11/20\n",
      "10/10 [==============================] - 0s 5ms/step - loss: 0.6578 - val_loss: 3.4755\n",
      "Epoch 12/20\n",
      "10/10 [==============================] - 0s 4ms/step - loss: 0.6548 - val_loss: 2.9226\n",
      "Epoch 13/20\n",
      "10/10 [==============================] - 0s 5ms/step - loss: 0.6659 - val_loss: 3.0359\n",
      "Epoch 14/20\n",
      "10/10 [==============================] - 0s 4ms/step - loss: 0.6505 - val_loss: 2.8532\n",
      "Epoch 15/20\n",
      "10/10 [==============================] - 0s 4ms/step - loss: 0.6492 - val_loss: 3.0591\n",
      "Epoch 16/20\n",
      "10/10 [==============================] - 0s 4ms/step - loss: 0.6652 - val_loss: 2.7686\n",
      "Epoch 17/20\n",
      "10/10 [==============================] - 0s 4ms/step - loss: 0.6343 - val_loss: 2.7533\n",
      "Epoch 18/20\n",
      "10/10 [==============================] - 0s 4ms/step - loss: 0.6325 - val_loss: 2.6165\n",
      "Epoch 19/20\n",
      "10/10 [==============================] - 0s 5ms/step - loss: 0.6372 - val_loss: 2.6590\n",
      "Epoch 20/20\n",
      "10/10 [==============================] - 0s 4ms/step - loss: 0.6402 - val_loss: 2.2267\n"
     ]
    },
    {
     "data": {
      "text/plain": [
       "<keras.callbacks.History at 0x28d3e455150>"
      ]
     },
     "execution_count": 26,
     "metadata": {},
     "output_type": "execute_result"
    }
   ],
   "source": [
    "model_dp = Sequential()\n",
    "\n",
    "model_dp.add(Dense(1000, activation='relu',input_shape=(1,)))\n",
    "model_dp.add(Dropout(0.1))\n",
    "model_dp.add(Dense(120,activation='relu'))\n",
    "model_dp.add(Dropout(0.1))\n",
    "model_dp.add(Dense(120,activation='relu'))\n",
    "model_dp.add(Dropout(0.1))\n",
    "model_dp.add(Dense(1))\n",
    "model_dp.compile(optimizer=Adam(lr=1e-3), loss=\"mean_squared_error\")\n",
    "model_dp.fit(X, y, validation_split=0.2, epochs=20, batch_size=40)"
   ]
  },
  {
   "cell_type": "markdown",
   "metadata": {},
   "source": [
    "Let's plot the prediction and calculate the mean square error;\n"
   ]
  },
  {
   "cell_type": "code",
   "execution_count": 27,
   "metadata": {},
   "outputs": [
    {
     "name": "stdout",
     "output_type": "stream",
     "text": [
      "16/16 [==============================] - 0s 733us/step\n"
     ]
    },
    {
     "data": {
      "text/plain": [
       "<matplotlib.legend.Legend at 0x28d3e57ffd0>"
      ]
     },
     "execution_count": 27,
     "metadata": {},
     "output_type": "execute_result"
    },
    {
     "data": {
      "image/png": "[encoded data removed]",
      "text/plain": [
       "<Figure size 432x288 with 1 Axes>"
      ]
     },
     "metadata": {
      "needs_background": "light"
     },
     "output_type": "display_data"
    }
   ],
   "source": [
    "y_pred = model_dp.predict(X)\n",
    "plt.plot(X, y,'rx',label=\"data samples\")\n",
    "plt.plot(X, f,label=\"true function\")\n",
    "plt.plot(X, y_pred ,label=\"predicted function\")\n",
    "plt.legend()"
   ]
  },
  {
   "cell_type": "code",
   "execution_count": 28,
   "metadata": {},
   "outputs": [
    {
     "name": "stdout",
     "output_type": "stream",
     "text": [
      "Mean squared error is 1.7506979435876022\n",
      "\n"
     ]
    }
   ],
   "source": [
    "dp = np.mean((y-y_pred)**2)\n",
    "print(f\"Mean squared error is {dp}\\n\")"
   ]
  },
  {
   "cell_type": "markdown",
   "metadata": {},
   "source": [
    "### Batch Norm\n"
   ]
  },
  {
   "cell_type": "code",
   "execution_count": 29,
   "metadata": {},
   "outputs": [
    {
     "name": "stdout",
     "output_type": "stream",
     "text": [
      "Epoch 1/20\n",
      "10/10 [==============================] - 0s 13ms/step - loss: 0.9170 - val_loss: 2.8155\n",
      "Epoch 2/20\n",
      "10/10 [==============================] - 0s 5ms/step - loss: 0.8553 - val_loss: 2.8282\n",
      "Epoch 3/20\n",
      "10/10 [==============================] - 0s 5ms/step - loss: 0.8261 - val_loss: 2.9181\n",
      "Epoch 4/20\n",
      "10/10 [==============================] - 0s 4ms/step - loss: 0.6936 - val_loss: 2.8730\n",
      "Epoch 5/20\n",
      "10/10 [==============================] - 0s 4ms/step - loss: 0.7077 - val_loss: 2.8264\n",
      "Epoch 6/20\n",
      "10/10 [==============================] - 0s 5ms/step - loss: 0.6670 - val_loss: 2.7600\n",
      "Epoch 7/20\n",
      "10/10 [==============================] - 0s 4ms/step - loss: 0.7355 - val_loss: 2.7401\n",
      "Epoch 8/20\n",
      "10/10 [==============================] - 0s 5ms/step - loss: 0.7004 - val_loss: 2.8275\n",
      "Epoch 9/20\n",
      "10/10 [==============================] - 0s 4ms/step - loss: 0.6974 - val_loss: 2.7936\n",
      "Epoch 10/20\n",
      "10/10 [==============================] - 0s 5ms/step - loss: 0.6364 - val_loss: 2.6376\n",
      "Epoch 11/20\n",
      "10/10 [==============================] - 0s 5ms/step - loss: 0.6063 - val_loss: 2.7470\n",
      "Epoch 12/20\n",
      "10/10 [==============================] - 0s 4ms/step - loss: 0.6294 - val_loss: 2.7770\n",
      "Epoch 13/20\n",
      "10/10 [==============================] - 0s 4ms/step - loss: 0.6178 - val_loss: 2.6127\n",
      "Epoch 14/20\n",
      "10/10 [==============================] - 0s 4ms/step - loss: 0.5770 - val_loss: 2.6695\n",
      "Epoch 15/20\n",
      "10/10 [==============================] - 0s 5ms/step - loss: 0.6246 - val_loss: 2.5955\n",
      "Epoch 16/20\n",
      "10/10 [==============================] - 0s 5ms/step - loss: 0.5907 - val_loss: 2.5265\n",
      "Epoch 17/20\n",
      "10/10 [==============================] - 0s 4ms/step - loss: 0.6880 - val_loss: 2.4244\n",
      "Epoch 18/20\n",
      "10/10 [==============================] - 0s 5ms/step - loss: 0.6037 - val_loss: 2.5456\n",
      "Epoch 19/20\n",
      "10/10 [==============================] - 0s 4ms/step - loss: 0.5789 - val_loss: 2.4885\n",
      "Epoch 20/20\n",
      "10/10 [==============================] - 0s 4ms/step - loss: 0.5967 - val_loss: 2.3392\n"
     ]
    },
    {
     "data": {
      "text/plain": [
       "<keras.callbacks.History at 0x28d3f5fadd0>"
      ]
     },
     "execution_count": 29,
     "metadata": {},
     "output_type": "execute_result"
    }
   ],
   "source": [
    "model_bn = Sequential()\n",
    "\n",
    "model_bn.add(Dense(1000, activation='relu',input_shape=(1,)))\n",
    "model_bn.add(BatchNormalization())\n",
    "model_bn.add(Dense(120,activation='relu'))\n",
    "\n",
    "model_bn.add(Dense(120,activation='relu'))\n",
    "model_bn.add(Dense(1))\n",
    "model_bn.compile(optimizer=Adam(lr=1e-3), loss=\"mean_squared_error\")\n",
    "model_bn.fit(X, y, validation_split=0.2, epochs=20, batch_size=40)"
   ]
  },
  {
   "cell_type": "markdown",
   "metadata": {},
   "source": [
    "We can observe that due to a stronger regularization of Batch Normalization, the model does not seem to fit the data very well. However, the mean square error actually shows a big improvement.\n"
   ]
  },
  {
   "cell_type": "code",
   "execution_count": 30,
   "metadata": {},
   "outputs": [
    {
     "name": "stdout",
     "output_type": "stream",
     "text": [
      "16/16 [==============================] - 0s 733us/step\n"
     ]
    },
    {
     "data": {
      "text/plain": [
       "<matplotlib.legend.Legend at 0x28d3e609b40>"
      ]
     },
     "execution_count": 30,
     "metadata": {},
     "output_type": "execute_result"
    },
    {
     "data": {
      "image/png": "[encoded data removed]",
      "text/plain": [
       "<Figure size 432x288 with 1 Axes>"
      ]
     },
     "metadata": {
      "needs_background": "light"
     },
     "output_type": "display_data"
    }
   ],
   "source": [
    "y_pred = model_bn.predict(X)\n",
    "plt.plot(X, y,'rx',label=\"data samples\")\n",
    "plt.plot(X, f,label=\"true function\")\n",
    "plt.plot(X, y_pred ,label=\"predicted function\")\n",
    "plt.legend()"
   ]
  },
  {
   "cell_type": "code",
   "execution_count": 31,
   "metadata": {},
   "outputs": [
    {
     "name": "stdout",
     "output_type": "stream",
     "text": [
      "Mean squared error is 1.5237937169219131\n",
      "\n"
     ]
    }
   ],
   "source": [
    "bn = np.mean((y-y_pred)**2)\n",
    "print(f\"Mean squared error is {bn}\\n\")"
   ]
  },
  {
   "cell_type": "markdown",
   "metadata": {},
   "source": [
    "### Data Shuffling\n",
    "\n",
    "To apply data shuffling to avoid overfitting, we can simpy call `shuffle=True` when fitting the model.\n"
   ]
  },
  {
   "cell_type": "code",
   "execution_count": 32,
   "metadata": {},
   "outputs": [
    {
     "name": "stdout",
     "output_type": "stream",
     "text": [
      "Epoch 1/20\n",
      "10/10 [==============================] - 0s 14ms/step - loss: 1.2018 - val_loss: 3.8721\n",
      "Epoch 2/20\n",
      "10/10 [==============================] - 0s 4ms/step - loss: 0.7426 - val_loss: 4.8642\n",
      "Epoch 3/20\n",
      "10/10 [==============================] - 0s 5ms/step - loss: 0.7029 - val_loss: 4.3237\n",
      "Epoch 4/20\n",
      "10/10 [==============================] - 0s 3ms/step - loss: 0.6908 - val_loss: 4.0402\n",
      "Epoch 5/20\n",
      "10/10 [==============================] - 0s 4ms/step - loss: 0.6842 - val_loss: 4.5171\n",
      "Epoch 6/20\n",
      "10/10 [==============================] - 0s 5ms/step - loss: 0.6678 - val_loss: 4.0756\n",
      "Epoch 7/20\n",
      "10/10 [==============================] - 0s 4ms/step - loss: 0.6624 - val_loss: 3.8659\n",
      "Epoch 8/20\n",
      "10/10 [==============================] - 0s 4ms/step - loss: 0.6575 - val_loss: 3.6736\n",
      "Epoch 9/20\n",
      "10/10 [==============================] - 0s 4ms/step - loss: 0.6591 - val_loss: 3.4883\n",
      "Epoch 10/20\n",
      "10/10 [==============================] - 0s 4ms/step - loss: 0.6686 - val_loss: 3.3202\n",
      "Epoch 11/20\n",
      "10/10 [==============================] - 0s 4ms/step - loss: 0.6649 - val_loss: 3.1122\n",
      "Epoch 12/20\n",
      "10/10 [==============================] - 0s 4ms/step - loss: 0.6459 - val_loss: 3.2702\n",
      "Epoch 13/20\n",
      "10/10 [==============================] - 0s 3ms/step - loss: 0.6416 - val_loss: 2.8689\n",
      "Epoch 14/20\n",
      "10/10 [==============================] - 0s 4ms/step - loss: 0.6339 - val_loss: 2.7711\n",
      "Epoch 15/20\n",
      "10/10 [==============================] - 0s 4ms/step - loss: 0.6372 - val_loss: 2.5669\n",
      "Epoch 16/20\n",
      "10/10 [==============================] - 0s 4ms/step - loss: 0.6381 - val_loss: 2.7285\n",
      "Epoch 17/20\n",
      "10/10 [==============================] - 0s 4ms/step - loss: 0.6343 - val_loss: 2.4290\n",
      "Epoch 18/20\n",
      "10/10 [==============================] - 0s 4ms/step - loss: 0.6403 - val_loss: 2.4180\n",
      "Epoch 19/20\n",
      "10/10 [==============================] - 0s 5ms/step - loss: 0.6429 - val_loss: 2.3427\n",
      "Epoch 20/20\n",
      "10/10 [==============================] - 0s 4ms/step - loss: 0.6318 - val_loss: 2.2804\n"
     ]
    },
    {
     "data": {
      "text/plain": [
       "<keras.callbacks.History at 0x28d3f7fa6e0>"
      ]
     },
     "execution_count": 32,
     "metadata": {},
     "output_type": "execute_result"
    }
   ],
   "source": [
    "model_sh = Sequential()\n",
    "\n",
    "model_sh.add(Dense(1000, activation='relu',input_shape=(1,)))\n",
    "model_sh.add(Dense(120,activation='relu'))\n",
    "model_sh.add(Dense(120,activation='relu'))\n",
    "model_sh.add(Dense(1))\n",
    "\n",
    "model_sh.compile(optimizer=Adam(lr=1e-3), loss=\"mean_squared_error\")\n",
    "model_sh.fit(X, y, validation_split=0.2, epochs=20, batch_size=40,shuffle=True)"
   ]
  },
  {
   "cell_type": "markdown",
   "metadata": {},
   "source": [
    "We can also calculate the mean square error on the data. Data Shuffling doesn't seem to be very effective for our data.\n"
   ]
  },
  {
   "cell_type": "code",
   "execution_count": 33,
   "metadata": {},
   "outputs": [
    {
     "name": "stdout",
     "output_type": "stream",
     "text": [
      "16/16 [==============================] - 0s 667us/step\n"
     ]
    },
    {
     "data": {
      "text/plain": [
       "<matplotlib.legend.Legend at 0x28d3e4eff10>"
      ]
     },
     "execution_count": 33,
     "metadata": {},
     "output_type": "execute_result"
    },
    {
     "data": {
      "image/png": "[encoded data removed]",
      "text/plain": [
       "<Figure size 432x288 with 1 Axes>"
      ]
     },
     "metadata": {
      "needs_background": "light"
     },
     "output_type": "display_data"
    }
   ],
   "source": [
    "y_pred = model_sh.predict(X)\n",
    "\n",
    "plt.plot(X, y,'rx',label=\"data samples\")\n",
    "plt.plot(X, f,label=\"true function\")\n",
    "plt.plot(X, y_pred ,label=\"predicted function\")\n",
    "plt.legend()"
   ]
  },
  {
   "cell_type": "code",
   "execution_count": 34,
   "metadata": {},
   "outputs": [
    {
     "name": "stdout",
     "output_type": "stream",
     "text": [
      "Mean squared error is 1.7455803398087801\n",
      "\n"
     ]
    }
   ],
   "source": [
    "sh = np.mean((y-y_pred)**2)\n",
    "print(f\"Mean squared error is {sh}\\n\")"
   ]
  },
  {
   "cell_type": "markdown",
   "metadata": {},
   "source": [
    "Let's compare the mean squared errors of the networks trained using different regularization techniques:\n"
   ]
  },
  {
   "cell_type": "code",
   "execution_count": 35,
   "metadata": {},
   "outputs": [
    {
     "data": {
      "image/png": "[encoded data removed]",
      "text/plain": [
       "<Figure size 576x288 with 1 Axes>"
      ]
     },
     "metadata": {
      "needs_background": "light"
     },
     "output_type": "display_data"
    }
   ],
   "source": [
    "names = ['No_reg','L1','L2','Drop_out','Batch_norm','Data_shuffling']\n",
    "error = [no_reg, l1, l2, dp, bn, sh]\n",
    "\n",
    "plt.figure(figsize=(8, 4))\n",
    "plt.bar(names, error, width=0.6)\n",
    "plt.title(\"Mean Squared Error\", fontsize=13)\n",
    "\n",
    "for i, err in enumerate(error):\n",
    "    plt.text(i-0.2, err+0.1, str(round(err,3)), color='blue', va='center') "
   ]
  },
  {
   "cell_type": "markdown",
   "metadata": {},
   "source": [
    "Given the comparison of the mean squared errors,  we can conclude that Batch Normalization works best for the simulated dataset. However, one takeaway I hope you to have is that for model training or machine learning in general, there are no cookie cutter solutions for issues such as overfitting. There is no strict rules as to which technique is most effective when working with one type of datasets, so I would suggest you just try these techniques out and pick the one that you deem is the best (based on an evaluation metric) for your problem!\n",
    "\n",
    "Now, let's move on to a real world dataset.\n"
   ]
  },
  {
   "cell_type": "markdown",
   "metadata": {},
   "source": [
    "## Example 2: Spam Classification\n",
    "\n",
    "In this example, we will dive into a real world application, which is a spam classification problem. We will work with the [SMS Spam Collection Dataset](https://www.kaggle.com/datasets/uciml/sms-spam-collection-dataset?utm_medium=Exinfluencer&utm_source=Exinfluencer&utm_content=000026UJ&utm_term=10006555&utm_id=NA-SkillsNetwork-Channel-SkillsNetworkGuidedProjectsIBMGPXX0HJYEN39861783-2022-01-01) from Kaggle and use neural networks for classifying a message as either Spam or Ham (not spam).\n",
    "\n",
    "We first download and display the raw dataset:\n"
   ]
  },
  {
   "cell_type": "code",
   "execution_count": 38,
   "metadata": {},
   "outputs": [
    {
     "data": {
      "application/vnd.jupyter.widget-view+json": {
       "model_id": "7c98ff3944444bfebbc3df15a8a89d0c",
       "version_major": 2,
       "version_minor": 0
      },
      "text/plain": [
       "Downloading spam.csv:   0%|          | 0/503663 [00:00<?, ?it/s]"
      ]
     },
     "metadata": {},
     "output_type": "display_data"
    },
    {
     "name": "stdout",
     "output_type": "stream",
     "text": [
      "Saved as 'spam.csv'\n"
     ]
    }
   ],
   "source": [
    "import skillsnetwork\n",
    "\n",
    "await skillsnetwork.download(\"https://cf-courses-data.s3.us.cloud-object-storage.appdomain.cloud/IBMDeveloperSkillsNetwork-ML311-Coursera/labs/Module1/L3/data/spam.csv\")"
   ]
  },
  {
   "cell_type": "code",
   "execution_count": 39,
   "metadata": {},
   "outputs": [
    {
     "data": {
      "text/html": [
       "<div>\n",
       "<style scoped>\n",
       "    .dataframe tbody tr th:only-of-type {\n",
       "        vertical-align: middle;\n",
       "    }\n",
       "\n",
       "    .dataframe tbody tr th {\n",
       "        vertical-align: top;\n",
       "    }\n",
       "\n",
       "    .dataframe thead th {\n",
       "        text-align: right;\n",
       "    }\n",
       "</style>\n",
       "<table border=\"1\" class=\"dataframe\">\n",
       "  <thead>\n",
       "    <tr style=\"text-align: right;\">\n",
       "      <th></th>\n",
       "      <th>v1</th>\n",
       "      <th>v2</th>\n",
       "      <th>Unnamed: 2</th>\n",
       "      <th>Unnamed: 3</th>\n",
       "      <th>Unnamed: 4</th>\n",
       "    </tr>\n",
       "  </thead>\n",
       "  <tbody>\n",
       "    <tr>\n",
       "      <th>0</th>\n",
       "      <td>ham</td>\n",
       "      <td>Go until jurong point, crazy.. Available only ...</td>\n",
       "      <td>NaN</td>\n",
       "      <td>NaN</td>\n",
       "      <td>NaN</td>\n",
       "    </tr>\n",
       "    <tr>\n",
       "      <th>1</th>\n",
       "      <td>ham</td>\n",
       "      <td>Ok lar... Joking wif u oni...</td>\n",
       "      <td>NaN</td>\n",
       "      <td>NaN</td>\n",
       "      <td>NaN</td>\n",
       "    </tr>\n",
       "    <tr>\n",
       "      <th>2</th>\n",
       "      <td>spam</td>\n",
       "      <td>Free entry in 2 a wkly comp to win FA Cup fina...</td>\n",
       "      <td>NaN</td>\n",
       "      <td>NaN</td>\n",
       "      <td>NaN</td>\n",
       "    </tr>\n",
       "    <tr>\n",
       "      <th>3</th>\n",
       "      <td>ham</td>\n",
       "      <td>U dun say so early hor... U c already then say...</td>\n",
       "      <td>NaN</td>\n",
       "      <td>NaN</td>\n",
       "      <td>NaN</td>\n",
       "    </tr>\n",
       "    <tr>\n",
       "      <th>4</th>\n",
       "      <td>ham</td>\n",
       "      <td>Nah I don't think he goes to usf, he lives aro...</td>\n",
       "      <td>NaN</td>\n",
       "      <td>NaN</td>\n",
       "      <td>NaN</td>\n",
       "    </tr>\n",
       "  </tbody>\n",
       "</table>\n",
       "</div>"
      ],
      "text/plain": [
       "     v1                                                 v2 Unnamed: 2  \\\n",
       "0   ham  Go until jurong point, crazy.. Available only ...        NaN   \n",
       "1   ham                      Ok lar... Joking wif u oni...        NaN   \n",
       "2  spam  Free entry in 2 a wkly comp to win FA Cup fina...        NaN   \n",
       "3   ham  U dun say so early hor... U c already then say...        NaN   \n",
       "4   ham  Nah I don't think he goes to usf, he lives aro...        NaN   \n",
       "\n",
       "  Unnamed: 3 Unnamed: 4  \n",
       "0        NaN        NaN  \n",
       "1        NaN        NaN  \n",
       "2        NaN        NaN  \n",
       "3        NaN        NaN  \n",
       "4        NaN        NaN  "
      ]
     },
     "execution_count": 39,
     "metadata": {},
     "output_type": "execute_result"
    }
   ],
   "source": [
    "data = pd.read_csv(\"spam.csv\", encoding=\"latin-1\")\n",
    "data.head()"
   ]
  },
  {
   "cell_type": "markdown",
   "metadata": {},
   "source": [
    "By calling the helper function **prepare_data**, we obtain a matrix $\\boldsymbol X$ which contains the pre-processed text data (mainly using the **TfidfVectorizer** from scikit-learn's **feature_extraction** module), and an object $\\boldsymbol y$ which contains the labels of the messages. \n",
    "\n",
    "There are 5572 text messages that will be classified as either spam **(1)** or non-spam **(0)**, and they are 8536-dimensional data.\n"
   ]
  },
  {
   "cell_type": "code",
   "execution_count": 40,
   "metadata": {},
   "outputs": [
    {
     "data": {
      "text/plain": [
       "((5572, 8536), (5572,))"
      ]
     },
     "execution_count": 40,
     "metadata": {},
     "output_type": "execute_result"
    }
   ],
   "source": [
    "X, y = prepare_data()\n",
    "X.shape, y.shape"
   ]
  },
  {
   "cell_type": "markdown",
   "metadata": {},
   "source": [
    "### Model Configuration and Training\n"
   ]
  },
  {
   "cell_type": "markdown",
   "metadata": {},
   "source": [
    "The **get_model** function provides the layer configuration as well as the training of a neural network for different specifications of the regularization technique used. For example, by setting `reg='L1'`, the network's Dense layers will be regularized by L1, and then at the end of the training, the loss and accuracy curve of train and validation set will be plotted.\n"
   ]
  },
  {
   "cell_type": "code",
   "execution_count": 41,
   "metadata": {},
   "outputs": [],
   "source": [
    "input_dim = X.shape[1]\n",
    "   \n",
    "def get_model(reg=None, epochs=10):\n",
    "    model = Sequential()\n",
    "    model.add(Dense(512, activation='relu', input_shape=(input_dim,)))\n",
    "    if reg==\"L1\":\n",
    "        model.add(Dense(256, activation='relu', kernel_regularizer=\"l1\"))\n",
    "        model.add(Dense(64, activation='relu', kernel_regularizer=\"l1\"))\n",
    "    elif reg==\"L2\":\n",
    "        model.add(Dense(256, activation='relu', kernel_regularizer=\"l2\"))\n",
    "        model.add(Dense(64, activation='relu', kernel_regularizer=\"l2\"))\n",
    "    elif reg==\"Dropout\":\n",
    "        model.add(Dropout(0.2))\n",
    "        model.add(Dense(256, activation='relu'))\n",
    "        model.add(Dropout(0.2))\n",
    "        model.add(Dense(64, activation='relu'))\n",
    "        model.add(Dropout(0.2))\n",
    "    elif reg==\"BatchNorm\":\n",
    "        model.add(BatchNormalization())\n",
    "        model.add(Dense(256, activation='relu'))\n",
    "        model.add(BatchNormalization())\n",
    "        model.add(Dense(64, activation='relu'))\n",
    "        model.add(BatchNormalization())  \n",
    "    else:\n",
    "        model.add(Dense(256, activation='relu'))\n",
    "        model.add(Dense(64, activation='relu'))  \n",
    " \n",
    "    model.add(Dense(1, activation='sigmoid'))\n",
    "    model.compile(loss=\"binary_crossentropy\", optimizer=\"adam\",\n",
    "                 metrics=[\"accuracy\"])\n",
    "    history = model.fit(X, y, batch_size=64, validation_split=0.2,\n",
    "              epochs=epochs)\n",
    "    plot_metrics(history)\n"
   ]
  },
  {
   "cell_type": "markdown",
   "metadata": {},
   "source": [
    "### Baseline: No Regularization\n"
   ]
  },
  {
   "cell_type": "code",
   "execution_count": 43,
   "metadata": {},
   "outputs": [
    {
     "name": "stdout",
     "output_type": "stream",
     "text": [
      "Epoch 1/10\n",
      "70/70 [==============================] - 2s 24ms/step - loss: 0.2667 - accuracy: 0.8721 - val_loss: 0.1285 - val_accuracy: 0.9731\n",
      "Epoch 2/10\n",
      "70/70 [==============================] - 2s 22ms/step - loss: 0.0465 - accuracy: 0.9928 - val_loss: 0.0871 - val_accuracy: 0.9767\n",
      "Epoch 3/10\n",
      "70/70 [==============================] - 2s 22ms/step - loss: 0.0033 - accuracy: 0.9993 - val_loss: 0.0748 - val_accuracy: 0.9821\n",
      "Epoch 4/10\n",
      "70/70 [==============================] - 2s 22ms/step - loss: 5.1141e-04 - accuracy: 1.0000 - val_loss: 0.1122 - val_accuracy: 0.9767\n",
      "Epoch 5/10\n",
      "70/70 [==============================] - 2s 22ms/step - loss: 1.6421e-04 - accuracy: 1.0000 - val_loss: 0.1106 - val_accuracy: 0.9785\n",
      "Epoch 6/10\n",
      "70/70 [==============================] - 2s 22ms/step - loss: 8.7123e-05 - accuracy: 1.0000 - val_loss: 0.1157 - val_accuracy: 0.9785\n",
      "Epoch 7/10\n",
      "70/70 [==============================] - 2s 22ms/step - loss: 5.8168e-05 - accuracy: 1.0000 - val_loss: 0.1198 - val_accuracy: 0.9785\n",
      "Epoch 8/10\n",
      "70/70 [==============================] - 2s 22ms/step - loss: 4.1860e-05 - accuracy: 1.0000 - val_loss: 0.1237 - val_accuracy: 0.9785\n",
      "Epoch 9/10\n",
      "70/70 [==============================] - 2s 22ms/step - loss: 3.1629e-05 - accuracy: 1.0000 - val_loss: 0.1268 - val_accuracy: 0.9785\n",
      "Epoch 10/10\n",
      "70/70 [==============================] - 2s 22ms/step - loss: 2.4628e-05 - accuracy: 1.0000 - val_loss: 0.1292 - val_accuracy: 0.9785\n"
     ]
    },
    {
     "ename": "KeyError",
     "evalue": "'acc'",
     "output_type": "error",
     "traceback": [
      "\u001b[1;31m---------------------------------------------------------------------------\u001b[0m",
      "\u001b[1;31mKeyError\u001b[0m                                  Traceback (most recent call last)",
      "\u001b[1;32mc:\\Users\\zizou\\Desktop\\sandbox\\personal Machine learning Tests\\Deploy Neural Network Regularizers to Prevent Overfitting\\deploy_neural_network_regularizers_to_prevent_overfitting.ipynb Cellule 98\u001b[0m in \u001b[0;36m<cell line: 1>\u001b[1;34m()\u001b[0m\n\u001b[1;32m----> <a href='vscode-notebook-cell:/c%3A/Users/zizou/Desktop/sandbox/personal%20Machine%20learning%20Tests/Deploy%20Neural%20Network%20Regularizers%20to%20Prevent%20Overfitting/deploy_neural_network_regularizers_to_prevent_overfitting.ipynb#Y166sZmlsZQ%3D%3D?line=0'>1</a>\u001b[0m get_model()\n",
      "\u001b[1;32mc:\\Users\\zizou\\Desktop\\sandbox\\personal Machine learning Tests\\Deploy Neural Network Regularizers to Prevent Overfitting\\deploy_neural_network_regularizers_to_prevent_overfitting.ipynb Cellule 98\u001b[0m in \u001b[0;36mget_model\u001b[1;34m(reg, epochs)\u001b[0m\n\u001b[0;32m     <a href='vscode-notebook-cell:/c%3A/Users/zizou/Desktop/sandbox/personal%20Machine%20learning%20Tests/Deploy%20Neural%20Network%20Regularizers%20to%20Prevent%20Overfitting/deploy_neural_network_regularizers_to_prevent_overfitting.ipynb#Y166sZmlsZQ%3D%3D?line=28'>29</a>\u001b[0m model\u001b[39m.\u001b[39mcompile(loss\u001b[39m=\u001b[39m\u001b[39m\"\u001b[39m\u001b[39mbinary_crossentropy\u001b[39m\u001b[39m\"\u001b[39m, optimizer\u001b[39m=\u001b[39m\u001b[39m\"\u001b[39m\u001b[39madam\u001b[39m\u001b[39m\"\u001b[39m,\n\u001b[0;32m     <a href='vscode-notebook-cell:/c%3A/Users/zizou/Desktop/sandbox/personal%20Machine%20learning%20Tests/Deploy%20Neural%20Network%20Regularizers%20to%20Prevent%20Overfitting/deploy_neural_network_regularizers_to_prevent_overfitting.ipynb#Y166sZmlsZQ%3D%3D?line=29'>30</a>\u001b[0m              metrics\u001b[39m=\u001b[39m[\u001b[39m\"\u001b[39m\u001b[39maccuracy\u001b[39m\u001b[39m\"\u001b[39m])\n\u001b[0;32m     <a href='vscode-notebook-cell:/c%3A/Users/zizou/Desktop/sandbox/personal%20Machine%20learning%20Tests/Deploy%20Neural%20Network%20Regularizers%20to%20Prevent%20Overfitting/deploy_neural_network_regularizers_to_prevent_overfitting.ipynb#Y166sZmlsZQ%3D%3D?line=30'>31</a>\u001b[0m history \u001b[39m=\u001b[39m model\u001b[39m.\u001b[39mfit(X, y, batch_size\u001b[39m=\u001b[39m\u001b[39m64\u001b[39m, validation_split\u001b[39m=\u001b[39m\u001b[39m0.2\u001b[39m,\n\u001b[0;32m     <a href='vscode-notebook-cell:/c%3A/Users/zizou/Desktop/sandbox/personal%20Machine%20learning%20Tests/Deploy%20Neural%20Network%20Regularizers%20to%20Prevent%20Overfitting/deploy_neural_network_regularizers_to_prevent_overfitting.ipynb#Y166sZmlsZQ%3D%3D?line=31'>32</a>\u001b[0m           epochs\u001b[39m=\u001b[39mepochs)\n\u001b[1;32m---> <a href='vscode-notebook-cell:/c%3A/Users/zizou/Desktop/sandbox/personal%20Machine%20learning%20Tests/Deploy%20Neural%20Network%20Regularizers%20to%20Prevent%20Overfitting/deploy_neural_network_regularizers_to_prevent_overfitting.ipynb#Y166sZmlsZQ%3D%3D?line=32'>33</a>\u001b[0m plot_metrics(history)\n",
      "\u001b[1;32mc:\\Users\\zizou\\Desktop\\sandbox\\personal Machine learning Tests\\Deploy Neural Network Regularizers to Prevent Overfitting\\deploy_neural_network_regularizers_to_prevent_overfitting.ipynb Cellule 98\u001b[0m in \u001b[0;36mplot_metrics\u001b[1;34m(history)\u001b[0m\n\u001b[0;32m      <a href='vscode-notebook-cell:/c%3A/Users/zizou/Desktop/sandbox/personal%20Machine%20learning%20Tests/Deploy%20Neural%20Network%20Regularizers%20to%20Prevent%20Overfitting/deploy_neural_network_regularizers_to_prevent_overfitting.ipynb#Y166sZmlsZQ%3D%3D?line=1'>2</a>\u001b[0m fig \u001b[39m=\u001b[39m plt\u001b[39m.\u001b[39mfigure(figsize\u001b[39m=\u001b[39m(\u001b[39m10\u001b[39m,\u001b[39m5\u001b[39m))\n\u001b[0;32m      <a href='vscode-notebook-cell:/c%3A/Users/zizou/Desktop/sandbox/personal%20Machine%20learning%20Tests/Deploy%20Neural%20Network%20Regularizers%20to%20Prevent%20Overfitting/deploy_neural_network_regularizers_to_prevent_overfitting.ipynb#Y166sZmlsZQ%3D%3D?line=2'>3</a>\u001b[0m \u001b[39mfor\u001b[39;00m i, metric \u001b[39min\u001b[39;00m \u001b[39menumerate\u001b[39m([\u001b[39m'\u001b[39m\u001b[39macc\u001b[39m\u001b[39m'\u001b[39m, \u001b[39m'\u001b[39m\u001b[39mloss\u001b[39m\u001b[39m'\u001b[39m]):\n\u001b[1;32m----> <a href='vscode-notebook-cell:/c%3A/Users/zizou/Desktop/sandbox/personal%20Machine%20learning%20Tests/Deploy%20Neural%20Network%20Regularizers%20to%20Prevent%20Overfitting/deploy_neural_network_regularizers_to_prevent_overfitting.ipynb#Y166sZmlsZQ%3D%3D?line=3'>4</a>\u001b[0m     train_metrics \u001b[39m=\u001b[39m history\u001b[39m.\u001b[39;49mhistory[metric]\n\u001b[0;32m      <a href='vscode-notebook-cell:/c%3A/Users/zizou/Desktop/sandbox/personal%20Machine%20learning%20Tests/Deploy%20Neural%20Network%20Regularizers%20to%20Prevent%20Overfitting/deploy_neural_network_regularizers_to_prevent_overfitting.ipynb#Y166sZmlsZQ%3D%3D?line=4'>5</a>\u001b[0m     val_metrics \u001b[39m=\u001b[39m history\u001b[39m.\u001b[39mhistory[\u001b[39m'\u001b[39m\u001b[39mval_\u001b[39m\u001b[39m'\u001b[39m\u001b[39m+\u001b[39mmetric]\n\u001b[0;32m      <a href='vscode-notebook-cell:/c%3A/Users/zizou/Desktop/sandbox/personal%20Machine%20learning%20Tests/Deploy%20Neural%20Network%20Regularizers%20to%20Prevent%20Overfitting/deploy_neural_network_regularizers_to_prevent_overfitting.ipynb#Y166sZmlsZQ%3D%3D?line=5'>6</a>\u001b[0m     epochs \u001b[39m=\u001b[39m \u001b[39mrange\u001b[39m(\u001b[39m1\u001b[39m, \u001b[39mlen\u001b[39m(train_metrics) \u001b[39m+\u001b[39m \u001b[39m1\u001b[39m)\n",
      "\u001b[1;31mKeyError\u001b[0m: 'acc'"
     ]
    },
    {
     "data": {
      "text/plain": [
       "<Figure size 720x360 with 0 Axes>"
      ]
     },
     "metadata": {},
     "output_type": "display_data"
    }
   ],
   "source": [
    "get_model()"
   ]
  },
  {
   "cell_type": "markdown",
   "metadata": {},
   "source": [
    "You can see that without regularization, our training set accuracy is generally higher than validation accuracy, which means the model is overfitted to the training set.\n"
   ]
  },
  {
   "cell_type": "markdown",
   "metadata": {},
   "source": [
    "### L1 Regularization\n"
   ]
  },
  {
   "cell_type": "code",
   "execution_count": 44,
   "metadata": {},
   "outputs": [
    {
     "name": "stdout",
     "output_type": "stream",
     "text": [
      "Epoch 1/10\n",
      "70/70 [==============================] - 2s 24ms/step - loss: 32.2918 - accuracy: 0.8638 - val_loss: 6.4798 - val_accuracy: 0.8700\n",
      "Epoch 2/10\n",
      "70/70 [==============================] - 2s 22ms/step - loss: 2.0905 - accuracy: 0.8649 - val_loss: 0.6525 - val_accuracy: 0.8700\n",
      "Epoch 3/10\n",
      "70/70 [==============================] - 2s 22ms/step - loss: 0.5915 - accuracy: 0.8649 - val_loss: 0.5644 - val_accuracy: 0.8700\n",
      "Epoch 4/10\n",
      "70/70 [==============================] - 2s 22ms/step - loss: 0.5732 - accuracy: 0.8649 - val_loss: 0.5630 - val_accuracy: 0.8700\n",
      "Epoch 5/10\n",
      "70/70 [==============================] - 2s 22ms/step - loss: 0.5728 - accuracy: 0.8649 - val_loss: 0.5628 - val_accuracy: 0.8700\n",
      "Epoch 6/10\n",
      "70/70 [==============================] - 2s 22ms/step - loss: 0.5725 - accuracy: 0.8649 - val_loss: 0.5625 - val_accuracy: 0.8700\n",
      "Epoch 7/10\n",
      "70/70 [==============================] - 2s 23ms/step - loss: 0.5725 - accuracy: 0.8649 - val_loss: 0.5632 - val_accuracy: 0.8700\n",
      "Epoch 8/10\n",
      "70/70 [==============================] - 2s 22ms/step - loss: 0.5723 - accuracy: 0.8649 - val_loss: 0.5627 - val_accuracy: 0.8700\n",
      "Epoch 9/10\n",
      "70/70 [==============================] - 2s 23ms/step - loss: 0.5724 - accuracy: 0.8649 - val_loss: 0.5639 - val_accuracy: 0.8700\n",
      "Epoch 10/10\n",
      "70/70 [==============================] - 2s 22ms/step - loss: 0.5723 - accuracy: 0.8649 - val_loss: 0.5628 - val_accuracy: 0.8700\n"
     ]
    },
    {
     "ename": "KeyError",
     "evalue": "'acc'",
     "output_type": "error",
     "traceback": [
      "\u001b[1;31m---------------------------------------------------------------------------\u001b[0m",
      "\u001b[1;31mKeyError\u001b[0m                                  Traceback (most recent call last)",
      "\u001b[1;32mc:\\Users\\zizou\\Desktop\\sandbox\\personal Machine learning Tests\\Deploy Neural Network Regularizers to Prevent Overfitting\\deploy_neural_network_regularizers_to_prevent_overfitting.ipynb Cellule 101\u001b[0m in \u001b[0;36m<cell line: 1>\u001b[1;34m()\u001b[0m\n\u001b[1;32m----> <a href='vscode-notebook-cell:/c%3A/Users/zizou/Desktop/sandbox/personal%20Machine%20learning%20Tests/Deploy%20Neural%20Network%20Regularizers%20to%20Prevent%20Overfitting/deploy_neural_network_regularizers_to_prevent_overfitting.ipynb#Y202sZmlsZQ%3D%3D?line=0'>1</a>\u001b[0m get_model(reg\u001b[39m=\u001b[39;49m\u001b[39m\"\u001b[39;49m\u001b[39mL1\u001b[39;49m\u001b[39m\"\u001b[39;49m)\n",
      "\u001b[1;32mc:\\Users\\zizou\\Desktop\\sandbox\\personal Machine learning Tests\\Deploy Neural Network Regularizers to Prevent Overfitting\\deploy_neural_network_regularizers_to_prevent_overfitting.ipynb Cellule 101\u001b[0m in \u001b[0;36mget_model\u001b[1;34m(reg, epochs)\u001b[0m\n\u001b[0;32m     <a href='vscode-notebook-cell:/c%3A/Users/zizou/Desktop/sandbox/personal%20Machine%20learning%20Tests/Deploy%20Neural%20Network%20Regularizers%20to%20Prevent%20Overfitting/deploy_neural_network_regularizers_to_prevent_overfitting.ipynb#Y202sZmlsZQ%3D%3D?line=28'>29</a>\u001b[0m model\u001b[39m.\u001b[39mcompile(loss\u001b[39m=\u001b[39m\u001b[39m\"\u001b[39m\u001b[39mbinary_crossentropy\u001b[39m\u001b[39m\"\u001b[39m, optimizer\u001b[39m=\u001b[39m\u001b[39m\"\u001b[39m\u001b[39madam\u001b[39m\u001b[39m\"\u001b[39m,\n\u001b[0;32m     <a href='vscode-notebook-cell:/c%3A/Users/zizou/Desktop/sandbox/personal%20Machine%20learning%20Tests/Deploy%20Neural%20Network%20Regularizers%20to%20Prevent%20Overfitting/deploy_neural_network_regularizers_to_prevent_overfitting.ipynb#Y202sZmlsZQ%3D%3D?line=29'>30</a>\u001b[0m              metrics\u001b[39m=\u001b[39m[\u001b[39m\"\u001b[39m\u001b[39maccuracy\u001b[39m\u001b[39m\"\u001b[39m])\n\u001b[0;32m     <a href='vscode-notebook-cell:/c%3A/Users/zizou/Desktop/sandbox/personal%20Machine%20learning%20Tests/Deploy%20Neural%20Network%20Regularizers%20to%20Prevent%20Overfitting/deploy_neural_network_regularizers_to_prevent_overfitting.ipynb#Y202sZmlsZQ%3D%3D?line=30'>31</a>\u001b[0m history \u001b[39m=\u001b[39m model\u001b[39m.\u001b[39mfit(X, y, batch_size\u001b[39m=\u001b[39m\u001b[39m64\u001b[39m, validation_split\u001b[39m=\u001b[39m\u001b[39m0.2\u001b[39m,\n\u001b[0;32m     <a href='vscode-notebook-cell:/c%3A/Users/zizou/Desktop/sandbox/personal%20Machine%20learning%20Tests/Deploy%20Neural%20Network%20Regularizers%20to%20Prevent%20Overfitting/deploy_neural_network_regularizers_to_prevent_overfitting.ipynb#Y202sZmlsZQ%3D%3D?line=31'>32</a>\u001b[0m           epochs\u001b[39m=\u001b[39mepochs)\n\u001b[1;32m---> <a href='vscode-notebook-cell:/c%3A/Users/zizou/Desktop/sandbox/personal%20Machine%20learning%20Tests/Deploy%20Neural%20Network%20Regularizers%20to%20Prevent%20Overfitting/deploy_neural_network_regularizers_to_prevent_overfitting.ipynb#Y202sZmlsZQ%3D%3D?line=32'>33</a>\u001b[0m plot_metrics(history)\n",
      "\u001b[1;32mc:\\Users\\zizou\\Desktop\\sandbox\\personal Machine learning Tests\\Deploy Neural Network Regularizers to Prevent Overfitting\\deploy_neural_network_regularizers_to_prevent_overfitting.ipynb Cellule 101\u001b[0m in \u001b[0;36mplot_metrics\u001b[1;34m(history)\u001b[0m\n\u001b[0;32m      <a href='vscode-notebook-cell:/c%3A/Users/zizou/Desktop/sandbox/personal%20Machine%20learning%20Tests/Deploy%20Neural%20Network%20Regularizers%20to%20Prevent%20Overfitting/deploy_neural_network_regularizers_to_prevent_overfitting.ipynb#Y202sZmlsZQ%3D%3D?line=1'>2</a>\u001b[0m fig \u001b[39m=\u001b[39m plt\u001b[39m.\u001b[39mfigure(figsize\u001b[39m=\u001b[39m(\u001b[39m10\u001b[39m,\u001b[39m5\u001b[39m))\n\u001b[0;32m      <a href='vscode-notebook-cell:/c%3A/Users/zizou/Desktop/sandbox/personal%20Machine%20learning%20Tests/Deploy%20Neural%20Network%20Regularizers%20to%20Prevent%20Overfitting/deploy_neural_network_regularizers_to_prevent_overfitting.ipynb#Y202sZmlsZQ%3D%3D?line=2'>3</a>\u001b[0m \u001b[39mfor\u001b[39;00m i, metric \u001b[39min\u001b[39;00m \u001b[39menumerate\u001b[39m([\u001b[39m'\u001b[39m\u001b[39macc\u001b[39m\u001b[39m'\u001b[39m, \u001b[39m'\u001b[39m\u001b[39mloss\u001b[39m\u001b[39m'\u001b[39m]):\n\u001b[1;32m----> <a href='vscode-notebook-cell:/c%3A/Users/zizou/Desktop/sandbox/personal%20Machine%20learning%20Tests/Deploy%20Neural%20Network%20Regularizers%20to%20Prevent%20Overfitting/deploy_neural_network_regularizers_to_prevent_overfitting.ipynb#Y202sZmlsZQ%3D%3D?line=3'>4</a>\u001b[0m     train_metrics \u001b[39m=\u001b[39m history\u001b[39m.\u001b[39;49mhistory[metric]\n\u001b[0;32m      <a href='vscode-notebook-cell:/c%3A/Users/zizou/Desktop/sandbox/personal%20Machine%20learning%20Tests/Deploy%20Neural%20Network%20Regularizers%20to%20Prevent%20Overfitting/deploy_neural_network_regularizers_to_prevent_overfitting.ipynb#Y202sZmlsZQ%3D%3D?line=4'>5</a>\u001b[0m     val_metrics \u001b[39m=\u001b[39m history\u001b[39m.\u001b[39mhistory[\u001b[39m'\u001b[39m\u001b[39mval_\u001b[39m\u001b[39m'\u001b[39m\u001b[39m+\u001b[39mmetric]\n\u001b[0;32m      <a href='vscode-notebook-cell:/c%3A/Users/zizou/Desktop/sandbox/personal%20Machine%20learning%20Tests/Deploy%20Neural%20Network%20Regularizers%20to%20Prevent%20Overfitting/deploy_neural_network_regularizers_to_prevent_overfitting.ipynb#Y202sZmlsZQ%3D%3D?line=5'>6</a>\u001b[0m     epochs \u001b[39m=\u001b[39m \u001b[39mrange\u001b[39m(\u001b[39m1\u001b[39m, \u001b[39mlen\u001b[39m(train_metrics) \u001b[39m+\u001b[39m \u001b[39m1\u001b[39m)\n",
      "\u001b[1;31mKeyError\u001b[0m: 'acc'"
     ]
    },
    {
     "data": {
      "text/plain": [
       "<Figure size 720x360 with 0 Axes>"
      ]
     },
     "metadata": {},
     "output_type": "display_data"
    }
   ],
   "source": [
    "get_model(reg=\"L1\")"
   ]
  },
  {
   "cell_type": "markdown",
   "metadata": {},
   "source": [
    "With L1 regularization, we can see that the validation accuracy is now higher than the training accuracy, meaning the L1 regularization mitigated the overfitting issue. However, if we look closer at the y-axis, we can see that in fact the accuracy value in general (both train and validation) is lower than the baseline model. \n",
    "\n",
    "For the baseline model, the validation accuracy was always above 0.97 even though it's slightly lower than the training accuracy. This indicates that, by using the default L1 regularization with shrinkage strength equals 0.001, our model is underfitting.\n"
   ]
  },
  {
   "cell_type": "markdown",
   "metadata": {},
   "source": [
    "### L2 Regularization\n"
   ]
  },
  {
   "cell_type": "code",
   "execution_count": 46,
   "metadata": {},
   "outputs": [
    {
     "name": "stdout",
     "output_type": "stream",
     "text": [
      "Epoch 1/10\n",
      "70/70 [==============================] - 2s 25ms/step - loss: 2.0867 - accuracy: 0.8714 - val_loss: 0.5513 - val_accuracy: 0.9552\n",
      "Epoch 2/10\n",
      "70/70 [==============================] - 2s 22ms/step - loss: 0.2669 - accuracy: 0.9829 - val_loss: 0.1595 - val_accuracy: 0.9776\n",
      "Epoch 3/10\n",
      "70/70 [==============================] - 2s 22ms/step - loss: 0.0913 - accuracy: 0.9966 - val_loss: 0.1221 - val_accuracy: 0.9749\n",
      "Epoch 4/10\n",
      "70/70 [==============================] - 2s 22ms/step - loss: 0.0622 - accuracy: 0.9989 - val_loss: 0.1058 - val_accuracy: 0.9785\n",
      "Epoch 5/10\n",
      "70/70 [==============================] - 2s 22ms/step - loss: 0.0494 - accuracy: 0.9996 - val_loss: 0.1016 - val_accuracy: 0.9776\n",
      "Epoch 6/10\n",
      "70/70 [==============================] - 2s 22ms/step - loss: 0.0419 - accuracy: 0.9998 - val_loss: 0.0955 - val_accuracy: 0.9785\n",
      "Epoch 7/10\n",
      "70/70 [==============================] - 2s 22ms/step - loss: 0.0358 - accuracy: 0.9998 - val_loss: 0.0851 - val_accuracy: 0.9812\n",
      "Epoch 8/10\n",
      "70/70 [==============================] - 2s 22ms/step - loss: 0.0315 - accuracy: 1.0000 - val_loss: 0.0812 - val_accuracy: 0.9812\n",
      "Epoch 9/10\n",
      "70/70 [==============================] - 2s 22ms/step - loss: 0.0282 - accuracy: 1.0000 - val_loss: 0.0828 - val_accuracy: 0.9776\n",
      "Epoch 10/10\n",
      "70/70 [==============================] - 2s 22ms/step - loss: 0.0259 - accuracy: 1.0000 - val_loss: 0.0864 - val_accuracy: 0.9776\n"
     ]
    },
    {
     "ename": "KeyError",
     "evalue": "'acc'",
     "output_type": "error",
     "traceback": [
      "\u001b[1;31m---------------------------------------------------------------------------\u001b[0m",
      "\u001b[1;31mKeyError\u001b[0m                                  Traceback (most recent call last)",
      "\u001b[1;32mc:\\Users\\zizou\\Desktop\\sandbox\\personal Machine learning Tests\\Deploy Neural Network Regularizers to Prevent Overfitting\\deploy_neural_network_regularizers_to_prevent_overfitting.ipynb Cellule 104\u001b[0m in \u001b[0;36m<cell line: 1>\u001b[1;34m()\u001b[0m\n\u001b[1;32m----> <a href='vscode-notebook-cell:/c%3A/Users/zizou/Desktop/sandbox/personal%20Machine%20learning%20Tests/Deploy%20Neural%20Network%20Regularizers%20to%20Prevent%20Overfitting/deploy_neural_network_regularizers_to_prevent_overfitting.ipynb#Y205sZmlsZQ%3D%3D?line=0'>1</a>\u001b[0m get_model(reg\u001b[39m=\u001b[39;49m\u001b[39m\"\u001b[39;49m\u001b[39mL2\u001b[39;49m\u001b[39m\"\u001b[39;49m)\n",
      "\u001b[1;32mc:\\Users\\zizou\\Desktop\\sandbox\\personal Machine learning Tests\\Deploy Neural Network Regularizers to Prevent Overfitting\\deploy_neural_network_regularizers_to_prevent_overfitting.ipynb Cellule 104\u001b[0m in \u001b[0;36mget_model\u001b[1;34m(reg, epochs)\u001b[0m\n\u001b[0;32m     <a href='vscode-notebook-cell:/c%3A/Users/zizou/Desktop/sandbox/personal%20Machine%20learning%20Tests/Deploy%20Neural%20Network%20Regularizers%20to%20Prevent%20Overfitting/deploy_neural_network_regularizers_to_prevent_overfitting.ipynb#Y205sZmlsZQ%3D%3D?line=28'>29</a>\u001b[0m model\u001b[39m.\u001b[39mcompile(loss\u001b[39m=\u001b[39m\u001b[39m\"\u001b[39m\u001b[39mbinary_crossentropy\u001b[39m\u001b[39m\"\u001b[39m, optimizer\u001b[39m=\u001b[39m\u001b[39m\"\u001b[39m\u001b[39madam\u001b[39m\u001b[39m\"\u001b[39m,\n\u001b[0;32m     <a href='vscode-notebook-cell:/c%3A/Users/zizou/Desktop/sandbox/personal%20Machine%20learning%20Tests/Deploy%20Neural%20Network%20Regularizers%20to%20Prevent%20Overfitting/deploy_neural_network_regularizers_to_prevent_overfitting.ipynb#Y205sZmlsZQ%3D%3D?line=29'>30</a>\u001b[0m              metrics\u001b[39m=\u001b[39m[\u001b[39m\"\u001b[39m\u001b[39maccuracy\u001b[39m\u001b[39m\"\u001b[39m])\n\u001b[0;32m     <a href='vscode-notebook-cell:/c%3A/Users/zizou/Desktop/sandbox/personal%20Machine%20learning%20Tests/Deploy%20Neural%20Network%20Regularizers%20to%20Prevent%20Overfitting/deploy_neural_network_regularizers_to_prevent_overfitting.ipynb#Y205sZmlsZQ%3D%3D?line=30'>31</a>\u001b[0m history \u001b[39m=\u001b[39m model\u001b[39m.\u001b[39mfit(X, y, batch_size\u001b[39m=\u001b[39m\u001b[39m64\u001b[39m, validation_split\u001b[39m=\u001b[39m\u001b[39m0.2\u001b[39m,\n\u001b[0;32m     <a href='vscode-notebook-cell:/c%3A/Users/zizou/Desktop/sandbox/personal%20Machine%20learning%20Tests/Deploy%20Neural%20Network%20Regularizers%20to%20Prevent%20Overfitting/deploy_neural_network_regularizers_to_prevent_overfitting.ipynb#Y205sZmlsZQ%3D%3D?line=31'>32</a>\u001b[0m           epochs\u001b[39m=\u001b[39mepochs)\n\u001b[1;32m---> <a href='vscode-notebook-cell:/c%3A/Users/zizou/Desktop/sandbox/personal%20Machine%20learning%20Tests/Deploy%20Neural%20Network%20Regularizers%20to%20Prevent%20Overfitting/deploy_neural_network_regularizers_to_prevent_overfitting.ipynb#Y205sZmlsZQ%3D%3D?line=32'>33</a>\u001b[0m plot_metrics(history)\n",
      "\u001b[1;32mc:\\Users\\zizou\\Desktop\\sandbox\\personal Machine learning Tests\\Deploy Neural Network Regularizers to Prevent Overfitting\\deploy_neural_network_regularizers_to_prevent_overfitting.ipynb Cellule 104\u001b[0m in \u001b[0;36mplot_metrics\u001b[1;34m(history)\u001b[0m\n\u001b[0;32m      <a href='vscode-notebook-cell:/c%3A/Users/zizou/Desktop/sandbox/personal%20Machine%20learning%20Tests/Deploy%20Neural%20Network%20Regularizers%20to%20Prevent%20Overfitting/deploy_neural_network_regularizers_to_prevent_overfitting.ipynb#Y205sZmlsZQ%3D%3D?line=1'>2</a>\u001b[0m fig \u001b[39m=\u001b[39m plt\u001b[39m.\u001b[39mfigure(figsize\u001b[39m=\u001b[39m(\u001b[39m10\u001b[39m,\u001b[39m5\u001b[39m))\n\u001b[0;32m      <a href='vscode-notebook-cell:/c%3A/Users/zizou/Desktop/sandbox/personal%20Machine%20learning%20Tests/Deploy%20Neural%20Network%20Regularizers%20to%20Prevent%20Overfitting/deploy_neural_network_regularizers_to_prevent_overfitting.ipynb#Y205sZmlsZQ%3D%3D?line=2'>3</a>\u001b[0m \u001b[39mfor\u001b[39;00m i, metric \u001b[39min\u001b[39;00m \u001b[39menumerate\u001b[39m([\u001b[39m'\u001b[39m\u001b[39macc\u001b[39m\u001b[39m'\u001b[39m, \u001b[39m'\u001b[39m\u001b[39mloss\u001b[39m\u001b[39m'\u001b[39m]):\n\u001b[1;32m----> <a href='vscode-notebook-cell:/c%3A/Users/zizou/Desktop/sandbox/personal%20Machine%20learning%20Tests/Deploy%20Neural%20Network%20Regularizers%20to%20Prevent%20Overfitting/deploy_neural_network_regularizers_to_prevent_overfitting.ipynb#Y205sZmlsZQ%3D%3D?line=3'>4</a>\u001b[0m     train_metrics \u001b[39m=\u001b[39m history\u001b[39m.\u001b[39;49mhistory[metric]\n\u001b[0;32m      <a href='vscode-notebook-cell:/c%3A/Users/zizou/Desktop/sandbox/personal%20Machine%20learning%20Tests/Deploy%20Neural%20Network%20Regularizers%20to%20Prevent%20Overfitting/deploy_neural_network_regularizers_to_prevent_overfitting.ipynb#Y205sZmlsZQ%3D%3D?line=4'>5</a>\u001b[0m     val_metrics \u001b[39m=\u001b[39m history\u001b[39m.\u001b[39mhistory[\u001b[39m'\u001b[39m\u001b[39mval_\u001b[39m\u001b[39m'\u001b[39m\u001b[39m+\u001b[39mmetric]\n\u001b[0;32m      <a href='vscode-notebook-cell:/c%3A/Users/zizou/Desktop/sandbox/personal%20Machine%20learning%20Tests/Deploy%20Neural%20Network%20Regularizers%20to%20Prevent%20Overfitting/deploy_neural_network_regularizers_to_prevent_overfitting.ipynb#Y205sZmlsZQ%3D%3D?line=5'>6</a>\u001b[0m     epochs \u001b[39m=\u001b[39m \u001b[39mrange\u001b[39m(\u001b[39m1\u001b[39m, \u001b[39mlen\u001b[39m(train_metrics) \u001b[39m+\u001b[39m \u001b[39m1\u001b[39m)\n",
      "\u001b[1;31mKeyError\u001b[0m: 'acc'"
     ]
    },
    {
     "data": {
      "text/plain": [
       "<Figure size 720x360 with 0 Axes>"
      ]
     },
     "metadata": {},
     "output_type": "display_data"
    }
   ],
   "source": [
    "get_model(reg=\"L2\")"
   ]
  },
  {
   "cell_type": "markdown",
   "metadata": {},
   "source": [
    "With L2 regularization, the gap between training accuracy and validation accuracy narrowed a little bit. The training accuracy was not always 1.0 compared to the baseline and the validation accuracy had more fluctuations than the baseline.\n"
   ]
  },
  {
   "cell_type": "markdown",
   "metadata": {},
   "source": [
    "### Dropout\n"
   ]
  },
  {
   "cell_type": "code",
   "execution_count": 47,
   "metadata": {},
   "outputs": [
    {
     "name": "stdout",
     "output_type": "stream",
     "text": [
      "Epoch 1/10\n",
      "70/70 [==============================] - 2s 24ms/step - loss: 0.2798 - accuracy: 0.8582 - val_loss: 0.1365 - val_accuracy: 0.8700\n",
      "Epoch 2/10\n",
      "70/70 [==============================] - 2s 23ms/step - loss: 0.0713 - accuracy: 0.9832 - val_loss: 0.0668 - val_accuracy: 0.9830\n",
      "Epoch 3/10\n",
      "70/70 [==============================] - 2s 23ms/step - loss: 0.0048 - accuracy: 0.9991 - val_loss: 0.0740 - val_accuracy: 0.9830\n",
      "Epoch 4/10\n",
      "70/70 [==============================] - 2s 23ms/step - loss: 9.7260e-04 - accuracy: 0.9998 - val_loss: 0.0814 - val_accuracy: 0.9830\n",
      "Epoch 5/10\n",
      "70/70 [==============================] - 2s 23ms/step - loss: 2.6791e-04 - accuracy: 1.0000 - val_loss: 0.0975 - val_accuracy: 0.9821\n",
      "Epoch 6/10\n",
      "70/70 [==============================] - 2s 24ms/step - loss: 1.0802e-04 - accuracy: 1.0000 - val_loss: 0.1052 - val_accuracy: 0.9803\n",
      "Epoch 7/10\n",
      "70/70 [==============================] - 2s 26ms/step - loss: 7.2317e-05 - accuracy: 1.0000 - val_loss: 0.1119 - val_accuracy: 0.9812\n",
      "Epoch 8/10\n",
      "70/70 [==============================] - 2s 22ms/step - loss: 6.3420e-05 - accuracy: 1.0000 - val_loss: 0.1139 - val_accuracy: 0.9803\n",
      "Epoch 9/10\n",
      "70/70 [==============================] - 2s 22ms/step - loss: 3.4841e-05 - accuracy: 1.0000 - val_loss: 0.1188 - val_accuracy: 0.9812\n",
      "Epoch 10/10\n",
      "70/70 [==============================] - 2s 22ms/step - loss: 3.9365e-05 - accuracy: 1.0000 - val_loss: 0.1214 - val_accuracy: 0.9812\n"
     ]
    },
    {
     "ename": "KeyError",
     "evalue": "'acc'",
     "output_type": "error",
     "traceback": [
      "\u001b[1;31m---------------------------------------------------------------------------\u001b[0m",
      "\u001b[1;31mKeyError\u001b[0m                                  Traceback (most recent call last)",
      "\u001b[1;32mc:\\Users\\zizou\\Desktop\\sandbox\\personal Machine learning Tests\\Deploy Neural Network Regularizers to Prevent Overfitting\\deploy_neural_network_regularizers_to_prevent_overfitting.ipynb Cellule 107\u001b[0m in \u001b[0;36m<cell line: 1>\u001b[1;34m()\u001b[0m\n\u001b[1;32m----> <a href='vscode-notebook-cell:/c%3A/Users/zizou/Desktop/sandbox/personal%20Machine%20learning%20Tests/Deploy%20Neural%20Network%20Regularizers%20to%20Prevent%20Overfitting/deploy_neural_network_regularizers_to_prevent_overfitting.ipynb#Y211sZmlsZQ%3D%3D?line=0'>1</a>\u001b[0m get_model(reg\u001b[39m=\u001b[39;49m\u001b[39m\"\u001b[39;49m\u001b[39mDropout\u001b[39;49m\u001b[39m\"\u001b[39;49m)\n",
      "\u001b[1;32mc:\\Users\\zizou\\Desktop\\sandbox\\personal Machine learning Tests\\Deploy Neural Network Regularizers to Prevent Overfitting\\deploy_neural_network_regularizers_to_prevent_overfitting.ipynb Cellule 107\u001b[0m in \u001b[0;36mget_model\u001b[1;34m(reg, epochs)\u001b[0m\n\u001b[0;32m     <a href='vscode-notebook-cell:/c%3A/Users/zizou/Desktop/sandbox/personal%20Machine%20learning%20Tests/Deploy%20Neural%20Network%20Regularizers%20to%20Prevent%20Overfitting/deploy_neural_network_regularizers_to_prevent_overfitting.ipynb#Y211sZmlsZQ%3D%3D?line=28'>29</a>\u001b[0m model\u001b[39m.\u001b[39mcompile(loss\u001b[39m=\u001b[39m\u001b[39m\"\u001b[39m\u001b[39mbinary_crossentropy\u001b[39m\u001b[39m\"\u001b[39m, optimizer\u001b[39m=\u001b[39m\u001b[39m\"\u001b[39m\u001b[39madam\u001b[39m\u001b[39m\"\u001b[39m,\n\u001b[0;32m     <a href='vscode-notebook-cell:/c%3A/Users/zizou/Desktop/sandbox/personal%20Machine%20learning%20Tests/Deploy%20Neural%20Network%20Regularizers%20to%20Prevent%20Overfitting/deploy_neural_network_regularizers_to_prevent_overfitting.ipynb#Y211sZmlsZQ%3D%3D?line=29'>30</a>\u001b[0m              metrics\u001b[39m=\u001b[39m[\u001b[39m\"\u001b[39m\u001b[39maccuracy\u001b[39m\u001b[39m\"\u001b[39m])\n\u001b[0;32m     <a href='vscode-notebook-cell:/c%3A/Users/zizou/Desktop/sandbox/personal%20Machine%20learning%20Tests/Deploy%20Neural%20Network%20Regularizers%20to%20Prevent%20Overfitting/deploy_neural_network_regularizers_to_prevent_overfitting.ipynb#Y211sZmlsZQ%3D%3D?line=30'>31</a>\u001b[0m history \u001b[39m=\u001b[39m model\u001b[39m.\u001b[39mfit(X, y, batch_size\u001b[39m=\u001b[39m\u001b[39m64\u001b[39m, validation_split\u001b[39m=\u001b[39m\u001b[39m0.2\u001b[39m,\n\u001b[0;32m     <a href='vscode-notebook-cell:/c%3A/Users/zizou/Desktop/sandbox/personal%20Machine%20learning%20Tests/Deploy%20Neural%20Network%20Regularizers%20to%20Prevent%20Overfitting/deploy_neural_network_regularizers_to_prevent_overfitting.ipynb#Y211sZmlsZQ%3D%3D?line=31'>32</a>\u001b[0m           epochs\u001b[39m=\u001b[39mepochs)\n\u001b[1;32m---> <a href='vscode-notebook-cell:/c%3A/Users/zizou/Desktop/sandbox/personal%20Machine%20learning%20Tests/Deploy%20Neural%20Network%20Regularizers%20to%20Prevent%20Overfitting/deploy_neural_network_regularizers_to_prevent_overfitting.ipynb#Y211sZmlsZQ%3D%3D?line=32'>33</a>\u001b[0m plot_metrics(history)\n",
      "\u001b[1;32mc:\\Users\\zizou\\Desktop\\sandbox\\personal Machine learning Tests\\Deploy Neural Network Regularizers to Prevent Overfitting\\deploy_neural_network_regularizers_to_prevent_overfitting.ipynb Cellule 107\u001b[0m in \u001b[0;36mplot_metrics\u001b[1;34m(history)\u001b[0m\n\u001b[0;32m      <a href='vscode-notebook-cell:/c%3A/Users/zizou/Desktop/sandbox/personal%20Machine%20learning%20Tests/Deploy%20Neural%20Network%20Regularizers%20to%20Prevent%20Overfitting/deploy_neural_network_regularizers_to_prevent_overfitting.ipynb#Y211sZmlsZQ%3D%3D?line=1'>2</a>\u001b[0m fig \u001b[39m=\u001b[39m plt\u001b[39m.\u001b[39mfigure(figsize\u001b[39m=\u001b[39m(\u001b[39m10\u001b[39m,\u001b[39m5\u001b[39m))\n\u001b[0;32m      <a href='vscode-notebook-cell:/c%3A/Users/zizou/Desktop/sandbox/personal%20Machine%20learning%20Tests/Deploy%20Neural%20Network%20Regularizers%20to%20Prevent%20Overfitting/deploy_neural_network_regularizers_to_prevent_overfitting.ipynb#Y211sZmlsZQ%3D%3D?line=2'>3</a>\u001b[0m \u001b[39mfor\u001b[39;00m i, metric \u001b[39min\u001b[39;00m \u001b[39menumerate\u001b[39m([\u001b[39m'\u001b[39m\u001b[39macc\u001b[39m\u001b[39m'\u001b[39m, \u001b[39m'\u001b[39m\u001b[39mloss\u001b[39m\u001b[39m'\u001b[39m]):\n\u001b[1;32m----> <a href='vscode-notebook-cell:/c%3A/Users/zizou/Desktop/sandbox/personal%20Machine%20learning%20Tests/Deploy%20Neural%20Network%20Regularizers%20to%20Prevent%20Overfitting/deploy_neural_network_regularizers_to_prevent_overfitting.ipynb#Y211sZmlsZQ%3D%3D?line=3'>4</a>\u001b[0m     train_metrics \u001b[39m=\u001b[39m history\u001b[39m.\u001b[39;49mhistory[metric]\n\u001b[0;32m      <a href='vscode-notebook-cell:/c%3A/Users/zizou/Desktop/sandbox/personal%20Machine%20learning%20Tests/Deploy%20Neural%20Network%20Regularizers%20to%20Prevent%20Overfitting/deploy_neural_network_regularizers_to_prevent_overfitting.ipynb#Y211sZmlsZQ%3D%3D?line=4'>5</a>\u001b[0m     val_metrics \u001b[39m=\u001b[39m history\u001b[39m.\u001b[39mhistory[\u001b[39m'\u001b[39m\u001b[39mval_\u001b[39m\u001b[39m'\u001b[39m\u001b[39m+\u001b[39mmetric]\n\u001b[0;32m      <a href='vscode-notebook-cell:/c%3A/Users/zizou/Desktop/sandbox/personal%20Machine%20learning%20Tests/Deploy%20Neural%20Network%20Regularizers%20to%20Prevent%20Overfitting/deploy_neural_network_regularizers_to_prevent_overfitting.ipynb#Y211sZmlsZQ%3D%3D?line=5'>6</a>\u001b[0m     epochs \u001b[39m=\u001b[39m \u001b[39mrange\u001b[39m(\u001b[39m1\u001b[39m, \u001b[39mlen\u001b[39m(train_metrics) \u001b[39m+\u001b[39m \u001b[39m1\u001b[39m)\n",
      "\u001b[1;31mKeyError\u001b[0m: 'acc'"
     ]
    },
    {
     "data": {
      "text/plain": [
       "<Figure size 720x360 with 0 Axes>"
      ]
     },
     "metadata": {},
     "output_type": "display_data"
    }
   ],
   "source": [
    "get_model(reg=\"Dropout\")"
   ]
  },
  {
   "cell_type": "markdown",
   "metadata": {},
   "source": [
    "With dropout, the resulting curves are very similar to the baseline, so perhaps dropout is not very effective in our case.\n"
   ]
  },
  {
   "cell_type": "markdown",
   "metadata": {},
   "source": [
    "### Batch Normalization\n"
   ]
  },
  {
   "cell_type": "code",
   "execution_count": 48,
   "metadata": {},
   "outputs": [
    {
     "name": "stdout",
     "output_type": "stream",
     "text": [
      "Epoch 1/10\n",
      "70/70 [==============================] - 2s 25ms/step - loss: 0.2749 - accuracy: 0.8703 - val_loss: 0.1314 - val_accuracy: 0.9695\n",
      "Epoch 2/10\n",
      "70/70 [==============================] - 2s 22ms/step - loss: 0.0626 - accuracy: 0.9939 - val_loss: 0.0695 - val_accuracy: 0.9821\n",
      "Epoch 3/10\n",
      "70/70 [==============================] - 2s 23ms/step - loss: 0.0032 - accuracy: 0.9993 - val_loss: 0.0839 - val_accuracy: 0.9785\n",
      "Epoch 4/10\n",
      "70/70 [==============================] - 2s 22ms/step - loss: 3.5769e-04 - accuracy: 1.0000 - val_loss: 0.0986 - val_accuracy: 0.9758\n",
      "Epoch 5/10\n",
      "70/70 [==============================] - 2s 22ms/step - loss: 1.2667e-04 - accuracy: 1.0000 - val_loss: 0.1056 - val_accuracy: 0.9758\n",
      "Epoch 6/10\n",
      "70/70 [==============================] - 2s 22ms/step - loss: 7.2126e-05 - accuracy: 1.0000 - val_loss: 0.1105 - val_accuracy: 0.9758\n",
      "Epoch 7/10\n",
      "70/70 [==============================] - 2s 22ms/step - loss: 4.7310e-05 - accuracy: 1.0000 - val_loss: 0.1159 - val_accuracy: 0.9758\n",
      "Epoch 8/10\n",
      "70/70 [==============================] - 2s 22ms/step - loss: 3.3469e-05 - accuracy: 1.0000 - val_loss: 0.1190 - val_accuracy: 0.9758\n",
      "Epoch 9/10\n",
      "70/70 [==============================] - 2s 22ms/step - loss: 2.5017e-05 - accuracy: 1.0000 - val_loss: 0.1225 - val_accuracy: 0.9758\n",
      "Epoch 10/10\n",
      "70/70 [==============================] - 2s 22ms/step - loss: 1.9247e-05 - accuracy: 1.0000 - val_loss: 0.1257 - val_accuracy: 0.9758\n"
     ]
    },
    {
     "ename": "KeyError",
     "evalue": "'acc'",
     "output_type": "error",
     "traceback": [
      "\u001b[1;31m---------------------------------------------------------------------------\u001b[0m",
      "\u001b[1;31mKeyError\u001b[0m                                  Traceback (most recent call last)",
      "\u001b[1;32mc:\\Users\\zizou\\Desktop\\sandbox\\personal Machine learning Tests\\Deploy Neural Network Regularizers to Prevent Overfitting\\deploy_neural_network_regularizers_to_prevent_overfitting.ipynb Cellule 110\u001b[0m in \u001b[0;36m<cell line: 1>\u001b[1;34m()\u001b[0m\n\u001b[1;32m----> <a href='vscode-notebook-cell:/c%3A/Users/zizou/Desktop/sandbox/personal%20Machine%20learning%20Tests/Deploy%20Neural%20Network%20Regularizers%20to%20Prevent%20Overfitting/deploy_neural_network_regularizers_to_prevent_overfitting.ipynb#Y214sZmlsZQ%3D%3D?line=0'>1</a>\u001b[0m get_model(reg\u001b[39m=\u001b[39;49m\u001b[39m\"\u001b[39;49m\u001b[39mBathNorm\u001b[39;49m\u001b[39m\"\u001b[39;49m)\n",
      "\u001b[1;32mc:\\Users\\zizou\\Desktop\\sandbox\\personal Machine learning Tests\\Deploy Neural Network Regularizers to Prevent Overfitting\\deploy_neural_network_regularizers_to_prevent_overfitting.ipynb Cellule 110\u001b[0m in \u001b[0;36mget_model\u001b[1;34m(reg, epochs)\u001b[0m\n\u001b[0;32m     <a href='vscode-notebook-cell:/c%3A/Users/zizou/Desktop/sandbox/personal%20Machine%20learning%20Tests/Deploy%20Neural%20Network%20Regularizers%20to%20Prevent%20Overfitting/deploy_neural_network_regularizers_to_prevent_overfitting.ipynb#Y214sZmlsZQ%3D%3D?line=28'>29</a>\u001b[0m model\u001b[39m.\u001b[39mcompile(loss\u001b[39m=\u001b[39m\u001b[39m\"\u001b[39m\u001b[39mbinary_crossentropy\u001b[39m\u001b[39m\"\u001b[39m, optimizer\u001b[39m=\u001b[39m\u001b[39m\"\u001b[39m\u001b[39madam\u001b[39m\u001b[39m\"\u001b[39m,\n\u001b[0;32m     <a href='vscode-notebook-cell:/c%3A/Users/zizou/Desktop/sandbox/personal%20Machine%20learning%20Tests/Deploy%20Neural%20Network%20Regularizers%20to%20Prevent%20Overfitting/deploy_neural_network_regularizers_to_prevent_overfitting.ipynb#Y214sZmlsZQ%3D%3D?line=29'>30</a>\u001b[0m              metrics\u001b[39m=\u001b[39m[\u001b[39m\"\u001b[39m\u001b[39maccuracy\u001b[39m\u001b[39m\"\u001b[39m])\n\u001b[0;32m     <a href='vscode-notebook-cell:/c%3A/Users/zizou/Desktop/sandbox/personal%20Machine%20learning%20Tests/Deploy%20Neural%20Network%20Regularizers%20to%20Prevent%20Overfitting/deploy_neural_network_regularizers_to_prevent_overfitting.ipynb#Y214sZmlsZQ%3D%3D?line=30'>31</a>\u001b[0m history \u001b[39m=\u001b[39m model\u001b[39m.\u001b[39mfit(X, y, batch_size\u001b[39m=\u001b[39m\u001b[39m64\u001b[39m, validation_split\u001b[39m=\u001b[39m\u001b[39m0.2\u001b[39m,\n\u001b[0;32m     <a href='vscode-notebook-cell:/c%3A/Users/zizou/Desktop/sandbox/personal%20Machine%20learning%20Tests/Deploy%20Neural%20Network%20Regularizers%20to%20Prevent%20Overfitting/deploy_neural_network_regularizers_to_prevent_overfitting.ipynb#Y214sZmlsZQ%3D%3D?line=31'>32</a>\u001b[0m           epochs\u001b[39m=\u001b[39mepochs)\n\u001b[1;32m---> <a href='vscode-notebook-cell:/c%3A/Users/zizou/Desktop/sandbox/personal%20Machine%20learning%20Tests/Deploy%20Neural%20Network%20Regularizers%20to%20Prevent%20Overfitting/deploy_neural_network_regularizers_to_prevent_overfitting.ipynb#Y214sZmlsZQ%3D%3D?line=32'>33</a>\u001b[0m plot_metrics(history)\n",
      "\u001b[1;32mc:\\Users\\zizou\\Desktop\\sandbox\\personal Machine learning Tests\\Deploy Neural Network Regularizers to Prevent Overfitting\\deploy_neural_network_regularizers_to_prevent_overfitting.ipynb Cellule 110\u001b[0m in \u001b[0;36mplot_metrics\u001b[1;34m(history)\u001b[0m\n\u001b[0;32m      <a href='vscode-notebook-cell:/c%3A/Users/zizou/Desktop/sandbox/personal%20Machine%20learning%20Tests/Deploy%20Neural%20Network%20Regularizers%20to%20Prevent%20Overfitting/deploy_neural_network_regularizers_to_prevent_overfitting.ipynb#Y214sZmlsZQ%3D%3D?line=1'>2</a>\u001b[0m fig \u001b[39m=\u001b[39m plt\u001b[39m.\u001b[39mfigure(figsize\u001b[39m=\u001b[39m(\u001b[39m10\u001b[39m,\u001b[39m5\u001b[39m))\n\u001b[0;32m      <a href='vscode-notebook-cell:/c%3A/Users/zizou/Desktop/sandbox/personal%20Machine%20learning%20Tests/Deploy%20Neural%20Network%20Regularizers%20to%20Prevent%20Overfitting/deploy_neural_network_regularizers_to_prevent_overfitting.ipynb#Y214sZmlsZQ%3D%3D?line=2'>3</a>\u001b[0m \u001b[39mfor\u001b[39;00m i, metric \u001b[39min\u001b[39;00m \u001b[39menumerate\u001b[39m([\u001b[39m'\u001b[39m\u001b[39macc\u001b[39m\u001b[39m'\u001b[39m, \u001b[39m'\u001b[39m\u001b[39mloss\u001b[39m\u001b[39m'\u001b[39m]):\n\u001b[1;32m----> <a href='vscode-notebook-cell:/c%3A/Users/zizou/Desktop/sandbox/personal%20Machine%20learning%20Tests/Deploy%20Neural%20Network%20Regularizers%20to%20Prevent%20Overfitting/deploy_neural_network_regularizers_to_prevent_overfitting.ipynb#Y214sZmlsZQ%3D%3D?line=3'>4</a>\u001b[0m     train_metrics \u001b[39m=\u001b[39m history\u001b[39m.\u001b[39;49mhistory[metric]\n\u001b[0;32m      <a href='vscode-notebook-cell:/c%3A/Users/zizou/Desktop/sandbox/personal%20Machine%20learning%20Tests/Deploy%20Neural%20Network%20Regularizers%20to%20Prevent%20Overfitting/deploy_neural_network_regularizers_to_prevent_overfitting.ipynb#Y214sZmlsZQ%3D%3D?line=4'>5</a>\u001b[0m     val_metrics \u001b[39m=\u001b[39m history\u001b[39m.\u001b[39mhistory[\u001b[39m'\u001b[39m\u001b[39mval_\u001b[39m\u001b[39m'\u001b[39m\u001b[39m+\u001b[39mmetric]\n\u001b[0;32m      <a href='vscode-notebook-cell:/c%3A/Users/zizou/Desktop/sandbox/personal%20Machine%20learning%20Tests/Deploy%20Neural%20Network%20Regularizers%20to%20Prevent%20Overfitting/deploy_neural_network_regularizers_to_prevent_overfitting.ipynb#Y214sZmlsZQ%3D%3D?line=5'>6</a>\u001b[0m     epochs \u001b[39m=\u001b[39m \u001b[39mrange\u001b[39m(\u001b[39m1\u001b[39m, \u001b[39mlen\u001b[39m(train_metrics) \u001b[39m+\u001b[39m \u001b[39m1\u001b[39m)\n",
      "\u001b[1;31mKeyError\u001b[0m: 'acc'"
     ]
    },
    {
     "data": {
      "text/plain": [
       "<Figure size 720x360 with 0 Axes>"
      ]
     },
     "metadata": {},
     "output_type": "display_data"
    }
   ],
   "source": [
    "get_model(reg=\"BathNorm\")"
   ]
  },
  {
   "cell_type": "markdown",
   "metadata": {},
   "source": [
    "With Batch Norm, the final training accuracy is 1.0 and the final validation accuracy is slightly higher than before. Hence, Batch Normalization is probably a better choice for our problem.\n"
   ]
  },
  {
   "cell_type": "markdown",
   "metadata": {},
   "source": [
    "**Congratulations on completing this guided project on Neural Network regularizers!** You have gained practice of using L1, L2, BatchNorm, Dropout, and Data Shuffling to control overfitting in training Machine Learning models. In this project we mainly used the Keras APIs to implement these methods. However, since you have understood the idea behind each, you should be able to implement these methods using other libraries as well such as Tensorflow or PyTorch. The code will be different but the working mechanics will be the same! \n",
    "\n",
    "Besides, whenever you encounter a new problem or a new dataset, you should train your model multiple times using different regularizers to see which one works best for your data. The idea is the same as choosing your Machine Learning models, there is no one regularization method that fits all problems. \n"
   ]
  },
  {
   "cell_type": "markdown",
   "metadata": {},
   "source": [
    "## Authors\n"
   ]
  },
  {
   "cell_type": "markdown",
   "metadata": {},
   "source": [
    "[Roxanne Li](https://www.linkedin.com/in/roxanne-li/?utm_medium=Exinfluencer&utm_source=Exinfluencer&utm_content=000026UJ&utm_term=10006555&utm_id=NA-SkillsNetwork-Channel-SkillsNetworkGuidedProjectsIBMGPXX0HJYEN39861783-2022-01-01) is a Data Science intern at IBM Skills Network, entering level-5 study in the Mathematics & Statistics undergraduate Coop program at McMaster University.\n"
   ]
  },
  {
   "cell_type": "markdown",
   "metadata": {},
   "source": [
    "## Change Log\n"
   ]
  },
  {
   "cell_type": "markdown",
   "metadata": {},
   "source": [
    "| Date (YYYY-MM-DD) | Version | Changed By  | Change Description |\n",
    "| ----------------- | ------- | ----------- | ------------------ |\n",
    "| 2022-07-18      | 0.1     | Roxanne Li  | Created Lab|\n",
    "| 2022-09-30      | 0.2     | Roxanne Li  | Created Guided Project|\n"
   ]
  },
  {
   "cell_type": "markdown",
   "metadata": {},
   "source": [
    "Copyright © 2022 IBM Corporation. All rights reserved.\n"
   ]
  }
 ],
 "metadata": {
  "kernelspec": {
   "display_name": "Python 3.10.4 64-bit",
   "language": "python",
   "name": "python3"
  },
  "language_info": {
   "codemirror_mode": {
    "name": "ipython",
    "version": 3
   },
   "file_extension": ".py",
   "mimetype": "text/x-python",
   "name": "python",
   "nbconvert_exporter": "python",
   "pygments_lexer": "ipython3",
   "version": "3.10.4"
  },
  "vscode": {
   "interpreter": {
    "hash": "369f2c481f4da34e4445cda3fffd2e751bd1c4d706f27375911949ba6bb62e1c"
   }
  }
 },
 "nbformat": 4,
 "nbformat_minor": 4
}
